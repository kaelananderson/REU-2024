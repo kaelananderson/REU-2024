{
 "cells": [
  {
   "cell_type": "code",
   "execution_count": 1,
   "metadata": {},
   "outputs": [
    {
     "data": {
      "text/html": [
       "<div>\n",
       "<style scoped>\n",
       "    .dataframe tbody tr th:only-of-type {\n",
       "        vertical-align: middle;\n",
       "    }\n",
       "\n",
       "    .dataframe tbody tr th {\n",
       "        vertical-align: top;\n",
       "    }\n",
       "\n",
       "    .dataframe thead th {\n",
       "        text-align: right;\n",
       "    }\n",
       "</style>\n",
       "<table border=\"1\" class=\"dataframe\">\n",
       "  <thead>\n",
       "    <tr style=\"text-align: right;\">\n",
       "      <th></th>\n",
       "      <th>Simulation Size</th>\n",
       "      <th>Model</th>\n",
       "      <th>Inference Time (sec)</th>\n",
       "      <th>R Squared</th>\n",
       "      <th>RMSE</th>\n",
       "      <th>Explanation/Interpretation Task</th>\n",
       "      <th>Interpretation Time (sec)</th>\n",
       "    </tr>\n",
       "  </thead>\n",
       "  <tbody>\n",
       "    <tr>\n",
       "      <th>0</th>\n",
       "      <td>50-250-30_000</td>\n",
       "      <td>Lasso</td>\n",
       "      <td>1.021</td>\n",
       "      <td>0.994631</td>\n",
       "      <td>0.999450</td>\n",
       "      <td>Interpret LASSO</td>\n",
       "      <td>0.909</td>\n",
       "    </tr>\n",
       "    <tr>\n",
       "      <th>1</th>\n",
       "      <td>50-250-30_000</td>\n",
       "      <td>NN</td>\n",
       "      <td>9.850</td>\n",
       "      <td>0.994293</td>\n",
       "      <td>1.030457</td>\n",
       "      <td>Explain Neural Network</td>\n",
       "      <td>3527.880</td>\n",
       "    </tr>\n",
       "  </tbody>\n",
       "</table>\n",
       "</div>"
      ],
      "text/plain": [
       "  Simulation Size  Model  Inference Time (sec)  R Squared      RMSE  \\\n",
       "0   50-250-30_000  Lasso                 1.021   0.994631  0.999450   \n",
       "1   50-250-30_000     NN                 9.850   0.994293  1.030457   \n",
       "\n",
       "  Explanation/Interpretation Task  Interpretation Time (sec)  \n",
       "0                 Interpret LASSO                      0.909  \n",
       "1          Explain Neural Network                   3527.880  "
      ]
     },
     "execution_count": 1,
     "metadata": {},
     "output_type": "execute_result"
    }
   ],
   "source": [
    "import pandas as pd\n",
    "metrics_df = pd.read_csv(\"50-250-30_000-metrics.csv\")\n",
    "metrics_df"
   ]
  },
  {
   "cell_type": "code",
   "execution_count": 2,
   "metadata": {},
   "outputs": [],
   "source": [
    "import dataframe_image as dfi\n",
    "dfi.export(metrics_df, '50-250-30_000_results.png')"
   ]
  }
 ],
 "metadata": {
  "kernelspec": {
   "display_name": "base",
   "language": "python",
   "name": "python3"
  },
  "language_info": {
   "codemirror_mode": {
    "name": "ipython",
    "version": 3
   },
   "file_extension": ".py",
   "mimetype": "text/x-python",
   "name": "python",
   "nbconvert_exporter": "python",
   "pygments_lexer": "ipython3",
   "version": "3.11.5"
  },
  "orig_nbformat": 4
 },
 "nbformat": 4,
 "nbformat_minor": 2
}
