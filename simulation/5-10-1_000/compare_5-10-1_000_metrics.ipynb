{
 "cells": [
  {
   "cell_type": "code",
   "execution_count": 3,
   "metadata": {},
   "outputs": [
    {
     "data": {
      "text/html": [
       "<div>\n",
       "<style scoped>\n",
       "    .dataframe tbody tr th:only-of-type {\n",
       "        vertical-align: middle;\n",
       "    }\n",
       "\n",
       "    .dataframe tbody tr th {\n",
       "        vertical-align: top;\n",
       "    }\n",
       "\n",
       "    .dataframe thead th {\n",
       "        text-align: right;\n",
       "    }\n",
       "</style>\n",
       "<table border=\"1\" class=\"dataframe\">\n",
       "  <thead>\n",
       "    <tr style=\"text-align: right;\">\n",
       "      <th></th>\n",
       "      <th>Simulation Size</th>\n",
       "      <th>Model</th>\n",
       "      <th>Inference Time (sec)</th>\n",
       "      <th>R Squared</th>\n",
       "      <th>RMSE</th>\n",
       "      <th>Explanation/Interpretation Task</th>\n",
       "      <th>Interpretation Time (sec)</th>\n",
       "    </tr>\n",
       "  </thead>\n",
       "  <tbody>\n",
       "    <tr>\n",
       "      <th>0</th>\n",
       "      <td>5-10-1_000</td>\n",
       "      <td>Lasso</td>\n",
       "      <td>0.149</td>\n",
       "      <td>0.918286</td>\n",
       "      <td>0.987549</td>\n",
       "      <td>Interpret LASSO</td>\n",
       "      <td>0.849</td>\n",
       "    </tr>\n",
       "    <tr>\n",
       "      <th>1</th>\n",
       "      <td>5-10-1_000</td>\n",
       "      <td>NN</td>\n",
       "      <td>4.695</td>\n",
       "      <td>0.915755</td>\n",
       "      <td>1.002727</td>\n",
       "      <td>Explain Neural Network</td>\n",
       "      <td>22.639</td>\n",
       "    </tr>\n",
       "  </tbody>\n",
       "</table>\n",
       "</div>"
      ],
      "text/plain": [
       "  Simulation Size  Model  Inference Time (sec)  R Squared      RMSE  \\\n",
       "0      5-10-1_000  Lasso                 0.149   0.918286  0.987549   \n",
       "1      5-10-1_000     NN                 4.695   0.915755  1.002727   \n",
       "\n",
       "  Explanation/Interpretation Task  Interpretation Time (sec)  \n",
       "0                 Interpret LASSO                      0.849  \n",
       "1          Explain Neural Network                     22.639  "
      ]
     },
     "execution_count": 3,
     "metadata": {},
     "output_type": "execute_result"
    }
   ],
   "source": [
    "import pandas as pd\n",
    "metrics_df = pd.read_csv(\"5-10-1_000-metrics.csv\")\n",
    "metrics_df"
   ]
  },
  {
   "cell_type": "code",
   "execution_count": 4,
   "metadata": {},
   "outputs": [],
   "source": [
    "import dataframe_image as dfi\n",
    "dfi.export(metrics_df, '5-10-1_000_results.png')"
   ]
  }
 ],
 "metadata": {
  "kernelspec": {
   "display_name": "base",
   "language": "python",
   "name": "python3"
  },
  "language_info": {
   "codemirror_mode": {
    "name": "ipython",
    "version": 3
   },
   "file_extension": ".py",
   "mimetype": "text/x-python",
   "name": "python",
   "nbconvert_exporter": "python",
   "pygments_lexer": "ipython3",
   "version": "3.11.5"
  },
  "orig_nbformat": 4
 },
 "nbformat": 4,
 "nbformat_minor": 2
}
