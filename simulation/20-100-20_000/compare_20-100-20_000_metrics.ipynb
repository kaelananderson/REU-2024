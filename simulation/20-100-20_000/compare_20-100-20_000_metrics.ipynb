{
 "cells": [
  {
   "cell_type": "code",
   "execution_count": 1,
   "metadata": {},
   "outputs": [
    {
     "data": {
      "text/html": [
       "<div>\n",
       "<style scoped>\n",
       "    .dataframe tbody tr th:only-of-type {\n",
       "        vertical-align: middle;\n",
       "    }\n",
       "\n",
       "    .dataframe tbody tr th {\n",
       "        vertical-align: top;\n",
       "    }\n",
       "\n",
       "    .dataframe thead th {\n",
       "        text-align: right;\n",
       "    }\n",
       "</style>\n",
       "<table border=\"1\" class=\"dataframe\">\n",
       "  <thead>\n",
       "    <tr style=\"text-align: right;\">\n",
       "      <th></th>\n",
       "      <th>Simulation Size</th>\n",
       "      <th>Model</th>\n",
       "      <th>Inference Time (sec)</th>\n",
       "      <th>R Squared</th>\n",
       "      <th>RMSE</th>\n",
       "      <th>Explanation/Interpretation Task</th>\n",
       "      <th>Interpretation Time (sec)</th>\n",
       "    </tr>\n",
       "  </thead>\n",
       "  <tbody>\n",
       "    <tr>\n",
       "      <th>0</th>\n",
       "      <td>20-100-20_000</td>\n",
       "      <td>Lasso</td>\n",
       "      <td>0.427</td>\n",
       "      <td>0.985407</td>\n",
       "      <td>1.016204</td>\n",
       "      <td>Interpret LASSO</td>\n",
       "      <td>1.011</td>\n",
       "    </tr>\n",
       "    <tr>\n",
       "      <th>1</th>\n",
       "      <td>20-100-20_000</td>\n",
       "      <td>NN</td>\n",
       "      <td>5.480</td>\n",
       "      <td>0.982523</td>\n",
       "      <td>1.112109</td>\n",
       "      <td>Explain Neural Network</td>\n",
       "      <td>578.751</td>\n",
       "    </tr>\n",
       "  </tbody>\n",
       "</table>\n",
       "</div>"
      ],
      "text/plain": [
       "  Simulation Size  Model  Inference Time (sec)  R Squared      RMSE  \\\n",
       "0   20-100-20_000  Lasso                 0.427   0.985407  1.016204   \n",
       "1   20-100-20_000     NN                 5.480   0.982523  1.112109   \n",
       "\n",
       "  Explanation/Interpretation Task  Interpretation Time (sec)  \n",
       "0                 Interpret LASSO                      1.011  \n",
       "1          Explain Neural Network                    578.751  "
      ]
     },
     "execution_count": 1,
     "metadata": {},
     "output_type": "execute_result"
    }
   ],
   "source": [
    "import pandas as pd\n",
    "metrics_df = pd.read_csv(\"20-100-20_000-metrics.csv\")\n",
    "metrics_df"
   ]
  },
  {
   "cell_type": "code",
   "execution_count": 2,
   "metadata": {},
   "outputs": [],
   "source": [
    "import dataframe_image as dfi\n",
    "dfi.export(metrics_df, '20-100-20_000_results.png')"
   ]
  }
 ],
 "metadata": {
  "kernelspec": {
   "display_name": "base",
   "language": "python",
   "name": "python3"
  },
  "language_info": {
   "codemirror_mode": {
    "name": "ipython",
    "version": 3
   },
   "file_extension": ".py",
   "mimetype": "text/x-python",
   "name": "python",
   "nbconvert_exporter": "python",
   "pygments_lexer": "ipython3",
   "version": "3.11.5"
  },
  "orig_nbformat": 4
 },
 "nbformat": 4,
 "nbformat_minor": 2
}
