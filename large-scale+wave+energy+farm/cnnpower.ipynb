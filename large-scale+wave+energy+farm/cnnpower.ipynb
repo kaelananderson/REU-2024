{
 "cells": [
  {
   "cell_type": "code",
   "execution_count": 1,
   "metadata": {},
   "outputs": [],
   "source": [
    "import pandas as pd\n",
    "import numpy as np\n",
    "from sklearn.linear_model import LassoCV, LassoLarsCV\n",
    "from sklearn.ensemble import StackingRegressor\n",
    "from sklearn.model_selection import train_test_split, cross_val_predict\n",
    "from sklearn.metrics import mean_squared_error, confusion_matrix, ConfusionMatrixDisplay\n",
    "import matplotlib.pyplot as plt\n",
    "import time\n",
    "import seaborn as sns\n",
    "from scipy.stats import norm, probplot\n",
    "from sklearn.datasets import make_regression\n",
    "from sklearn.pipeline import make_pipeline\n",
    "from sklearn.preprocessing import StandardScaler\n",
    "from sklearn.model_selection import KFold\n",
    "import shutil\n",
    "import os\n"
   ]
  },
  {
   "cell_type": "code",
   "execution_count": 2,
   "metadata": {},
   "outputs": [
    {
     "name": "stderr",
     "output_type": "stream",
     "text": [
      "2024-08-19 17:18:01.905959: I tensorflow/core/platform/cpu_feature_guard.cc:210] This TensorFlow binary is optimized to use available CPU instructions in performance-critical operations.\n",
      "To enable the following instructions: AVX2 AVX512F AVX512_VNNI FMA, in other operations, rebuild TensorFlow with the appropriate compiler flags.\n"
     ]
    }
   ],
   "source": [
    "import tensorflow as tf\n",
    "from tensorflow.keras.models import Sequential\n",
    "from tensorflow.keras.layers import Conv1D, MaxPooling1D, Flatten, Dense, Dropout, Input\n",
    "from tensorflow.keras.layers import Conv2D, MaxPooling2D, Flatten, Dense, Dropout\n",
    "from tensorflow.keras.callbacks import TensorBoard"
   ]
  },
  {
   "cell_type": "code",
   "execution_count": 3,
   "metadata": {},
   "outputs": [],
   "source": [
    "# Define the custom confusion matrix plotting function\n",
    "def make_confusion_matrix(cf,\n",
    "                          group_names=None,\n",
    "                          categories='auto',\n",
    "                          count=True,\n",
    "                          percent=True,\n",
    "                          cbar=True,\n",
    "                          xyticks=True,\n",
    "                          xyplotlabels=True,\n",
    "                          sum_stats=True,\n",
    "                          figsize=None,\n",
    "                          cmap='Blues',\n",
    "                          title=None):\n",
    "    '''\n",
    "    This function will make a pretty plot of an sklearn Confusion Matrix cf using a Seaborn heatmap visualization.\n",
    "    Arguments:\n",
    "    - cf:            confusion matrix to be visualized\n",
    "    - group_names:   List of strings that represent the labels row by row to be shown in each square.\n",
    "    - categories:    List of strings containing the categories to be displayed on the x,y axis. Default is 'auto'\n",
    "    - count:         If True, show the raw number in the confusion matrix. Default is True.\n",
    "    - percent:       If True, show the proportions for each category. Default is True.\n",
    "    - cbar:          If True, show the color bar. Default is True.\n",
    "    - xyticks:       If True, show x and y ticks. Default is True.\n",
    "    - xyplotlabels:  If True, show 'True Label' and 'Predicted Label' on the plot. Default is True.\n",
    "    - sum_stats:     If True, display summary statistics below the plot. Default is True.\n",
    "    - figsize:       Tuple representing the figure size. Default will be the rcParams value.\n",
    "    - cmap:          Colormap of the values displayed from matplotlib.pyplot.cm. Default is 'Blues'\n",
    "    - title:         Title for the heatmap. Default is None.\n",
    "    '''\n",
    "\n",
    "    # CODE TO GENERATE TEXT INSIDE EACH SQUARE\n",
    "    blanks = ['' for i in range(cf.size)]\n",
    "\n",
    "    if group_names and len(group_names)==cf.size:\n",
    "        group_labels = [\"{}\\n\".format(value) for value in group_names]\n",
    "    else:\n",
    "        group_labels = blanks\n",
    "\n",
    "    if count:\n",
    "        group_counts = [\"{0:0.0f}\\n\".format(value) for value in cf.flatten()]\n",
    "    else:\n",
    "        group_counts = blanks\n",
    "\n",
    "    if percent:\n",
    "        group_percentages = [\"{0:.2%}\".format(value) for value in cf.flatten()/np.sum(cf)]\n",
    "    else:\n",
    "        group_percentages = blanks\n",
    "\n",
    "    box_labels = [f\"{v1}{v2}{v3}\".strip() for v1, v2, v3 in zip(group_labels,group_counts,group_percentages)]\n",
    "    box_labels = np.asarray(box_labels).reshape(cf.shape[0],cf.shape[1])\n",
    "\n",
    "\n",
    "    # SET FIGURE PARAMETERS ACCORDING TO OTHER ARGUMENTS\n",
    "    if figsize is None:\n",
    "        # Get default figure size if not set\n",
    "        figsize = plt.rcParams.get('figure.figsize')\n",
    "\n",
    "    if not xyticks:\n",
    "        # Do not show categories if xyticks is False\n",
    "        categories=False\n",
    "\n",
    "    # MAKE THE HEATMAP VISUALIZATION\n",
    "    plt.figure(figsize=figsize)\n",
    "    sns.heatmap(cf, annot=box_labels, fmt=\"\", cmap=cmap, cbar=cbar, xticklabels=categories, yticklabels=categories)\n",
    "\n",
    "    if title:\n",
    "        plt.title(title)"
   ]
  },
  {
   "cell_type": "code",
   "execution_count": 4,
   "metadata": {},
   "outputs": [
    {
     "data": {
      "text/plain": [
       "(36043, 149)"
      ]
     },
     "execution_count": 4,
     "metadata": {},
     "output_type": "execute_result"
    }
   ],
   "source": [
    "wave_df = pd.read_csv(\"WEC_Perth_49.csv\")\n",
    "wave_df.shape"
   ]
  },
  {
   "cell_type": "code",
   "execution_count": 5,
   "metadata": {},
   "outputs": [
    {
     "data": {
      "text/html": [
       "<div>\n",
       "<style scoped>\n",
       "    .dataframe tbody tr th:only-of-type {\n",
       "        vertical-align: middle;\n",
       "    }\n",
       "\n",
       "    .dataframe tbody tr th {\n",
       "        vertical-align: top;\n",
       "    }\n",
       "\n",
       "    .dataframe thead th {\n",
       "        text-align: right;\n",
       "    }\n",
       "</style>\n",
       "<table border=\"1\" class=\"dataframe\">\n",
       "  <thead>\n",
       "    <tr style=\"text-align: right;\">\n",
       "      <th></th>\n",
       "      <th>X1</th>\n",
       "      <th>Y1</th>\n",
       "      <th>X2</th>\n",
       "      <th>Y2</th>\n",
       "      <th>X3</th>\n",
       "      <th>Y3</th>\n",
       "      <th>X4</th>\n",
       "      <th>Y4</th>\n",
       "      <th>X5</th>\n",
       "      <th>Y5</th>\n",
       "      <th>...</th>\n",
       "      <th>Power42</th>\n",
       "      <th>Power43</th>\n",
       "      <th>Power44</th>\n",
       "      <th>Power45</th>\n",
       "      <th>Power46</th>\n",
       "      <th>Power47</th>\n",
       "      <th>Power48</th>\n",
       "      <th>Power49</th>\n",
       "      <th>qW</th>\n",
       "      <th>Total_Power</th>\n",
       "    </tr>\n",
       "  </thead>\n",
       "  <tbody>\n",
       "    <tr>\n",
       "      <th>0</th>\n",
       "      <td>600.0</td>\n",
       "      <td>0.0</td>\n",
       "      <td>546.16</td>\n",
       "      <td>37.50</td>\n",
       "      <td>489.79</td>\n",
       "      <td>74.88</td>\n",
       "      <td>432.47</td>\n",
       "      <td>112.05</td>\n",
       "      <td>650.0</td>\n",
       "      <td>0.0</td>\n",
       "      <td>...</td>\n",
       "      <td>88867.92</td>\n",
       "      <td>98844.30</td>\n",
       "      <td>101283.59</td>\n",
       "      <td>98934.63</td>\n",
       "      <td>101624.58</td>\n",
       "      <td>100915.03</td>\n",
       "      <td>99625.68</td>\n",
       "      <td>96704.34</td>\n",
       "      <td>0.87</td>\n",
       "      <td>4102461.43</td>\n",
       "    </tr>\n",
       "    <tr>\n",
       "      <th>1</th>\n",
       "      <td>593.0</td>\n",
       "      <td>12.0</td>\n",
       "      <td>546.16</td>\n",
       "      <td>37.50</td>\n",
       "      <td>489.79</td>\n",
       "      <td>74.88</td>\n",
       "      <td>432.47</td>\n",
       "      <td>112.05</td>\n",
       "      <td>644.0</td>\n",
       "      <td>8.0</td>\n",
       "      <td>...</td>\n",
       "      <td>88896.55</td>\n",
       "      <td>98759.79</td>\n",
       "      <td>101346.07</td>\n",
       "      <td>98873.59</td>\n",
       "      <td>101629.01</td>\n",
       "      <td>100934.53</td>\n",
       "      <td>99606.13</td>\n",
       "      <td>96718.39</td>\n",
       "      <td>0.87</td>\n",
       "      <td>4103361.41</td>\n",
       "    </tr>\n",
       "    <tr>\n",
       "      <th>2</th>\n",
       "      <td>593.0</td>\n",
       "      <td>12.0</td>\n",
       "      <td>546.16</td>\n",
       "      <td>37.50</td>\n",
       "      <td>489.79</td>\n",
       "      <td>74.88</td>\n",
       "      <td>432.47</td>\n",
       "      <td>112.05</td>\n",
       "      <td>644.0</td>\n",
       "      <td>8.0</td>\n",
       "      <td>...</td>\n",
       "      <td>88919.83</td>\n",
       "      <td>98746.68</td>\n",
       "      <td>101346.15</td>\n",
       "      <td>98875.57</td>\n",
       "      <td>101618.32</td>\n",
       "      <td>100941.00</td>\n",
       "      <td>99611.35</td>\n",
       "      <td>96719.14</td>\n",
       "      <td>0.87</td>\n",
       "      <td>4103680.44</td>\n",
       "    </tr>\n",
       "    <tr>\n",
       "      <th>3</th>\n",
       "      <td>593.0</td>\n",
       "      <td>12.0</td>\n",
       "      <td>546.16</td>\n",
       "      <td>37.50</td>\n",
       "      <td>489.79</td>\n",
       "      <td>74.88</td>\n",
       "      <td>432.47</td>\n",
       "      <td>112.05</td>\n",
       "      <td>644.0</td>\n",
       "      <td>8.0</td>\n",
       "      <td>...</td>\n",
       "      <td>88855.14</td>\n",
       "      <td>98760.96</td>\n",
       "      <td>101338.59</td>\n",
       "      <td>98971.58</td>\n",
       "      <td>101632.28</td>\n",
       "      <td>100943.59</td>\n",
       "      <td>99589.25</td>\n",
       "      <td>96735.04</td>\n",
       "      <td>0.87</td>\n",
       "      <td>4105661.06</td>\n",
       "    </tr>\n",
       "    <tr>\n",
       "      <th>4</th>\n",
       "      <td>200.0</td>\n",
       "      <td>0.0</td>\n",
       "      <td>146.17</td>\n",
       "      <td>37.53</td>\n",
       "      <td>89.76</td>\n",
       "      <td>74.93</td>\n",
       "      <td>32.40</td>\n",
       "      <td>112.18</td>\n",
       "      <td>400.0</td>\n",
       "      <td>0.0</td>\n",
       "      <td>...</td>\n",
       "      <td>88005.30</td>\n",
       "      <td>98630.24</td>\n",
       "      <td>100432.73</td>\n",
       "      <td>98803.01</td>\n",
       "      <td>101064.48</td>\n",
       "      <td>100948.38</td>\n",
       "      <td>99028.87</td>\n",
       "      <td>96286.71</td>\n",
       "      <td>0.79</td>\n",
       "      <td>3752648.77</td>\n",
       "    </tr>\n",
       "  </tbody>\n",
       "</table>\n",
       "<p>5 rows × 149 columns</p>\n",
       "</div>"
      ],
      "text/plain": [
       "      X1    Y1      X2     Y2      X3     Y3      X4      Y4     X5   Y5  ...  \\\n",
       "0  600.0   0.0  546.16  37.50  489.79  74.88  432.47  112.05  650.0  0.0  ...   \n",
       "1  593.0  12.0  546.16  37.50  489.79  74.88  432.47  112.05  644.0  8.0  ...   \n",
       "2  593.0  12.0  546.16  37.50  489.79  74.88  432.47  112.05  644.0  8.0  ...   \n",
       "3  593.0  12.0  546.16  37.50  489.79  74.88  432.47  112.05  644.0  8.0  ...   \n",
       "4  200.0   0.0  146.17  37.53   89.76  74.93   32.40  112.18  400.0  0.0  ...   \n",
       "\n",
       "    Power42   Power43    Power44   Power45    Power46    Power47   Power48  \\\n",
       "0  88867.92  98844.30  101283.59  98934.63  101624.58  100915.03  99625.68   \n",
       "1  88896.55  98759.79  101346.07  98873.59  101629.01  100934.53  99606.13   \n",
       "2  88919.83  98746.68  101346.15  98875.57  101618.32  100941.00  99611.35   \n",
       "3  88855.14  98760.96  101338.59  98971.58  101632.28  100943.59  99589.25   \n",
       "4  88005.30  98630.24  100432.73  98803.01  101064.48  100948.38  99028.87   \n",
       "\n",
       "    Power49    qW  Total_Power  \n",
       "0  96704.34  0.87   4102461.43  \n",
       "1  96718.39  0.87   4103361.41  \n",
       "2  96719.14  0.87   4103680.44  \n",
       "3  96735.04  0.87   4105661.06  \n",
       "4  96286.71  0.79   3752648.77  \n",
       "\n",
       "[5 rows x 149 columns]"
      ]
     },
     "execution_count": 5,
     "metadata": {},
     "output_type": "execute_result"
    }
   ],
   "source": [
    "wave_df.head(5)"
   ]
  },
  {
   "cell_type": "code",
   "execution_count": 6,
   "metadata": {},
   "outputs": [
    {
     "data": {
      "text/plain": [
       "Index(['X1', 'Y1', 'X2', 'Y2', 'X3', 'Y3', 'X4', 'Y4', 'X5', 'Y5',\n",
       "       ...\n",
       "       'Power42', 'Power43', 'Power44', 'Power45', 'Power46', 'Power47',\n",
       "       'Power48', 'Power49', 'qW', 'Total_Power'],\n",
       "      dtype='object', length=149)"
      ]
     },
     "execution_count": 6,
     "metadata": {},
     "output_type": "execute_result"
    }
   ],
   "source": [
    "wave_df.columns"
   ]
  },
  {
   "cell_type": "code",
   "execution_count": 7,
   "metadata": {},
   "outputs": [
    {
     "name": "stdout",
     "output_type": "stream",
     "text": [
      "Descriptive Statistics for 'Total_Power':\n",
      "Count: 36043.0\n",
      "Mean: 3938246.46\n",
      "Standard Deviation: 122617.15\n",
      "Minimum: 3388944.15\n",
      "25th Percentile: 3847334.53\n",
      "Median (50th Percentile): 3931540.55\n",
      "75th Percentile: 4063622.69\n",
      "Maximum: 4177658.97\n"
     ]
    }
   ],
   "source": [
    "total_power_description = wave_df['Total_Power'].describe()\n",
    "print(\"Descriptive Statistics for 'Total_Power':\")\n",
    "print(f\"Count: {total_power_description['count']}\")\n",
    "print(f\"Mean: {total_power_description['mean']:.2f}\")\n",
    "print(f\"Standard Deviation: {total_power_description['std']:.2f}\")\n",
    "print(f\"Minimum: {total_power_description['min']:.2f}\")\n",
    "print(f\"25th Percentile: {total_power_description['25%']:.2f}\")\n",
    "print(f\"Median (50th Percentile): {total_power_description['50%']:.2f}\")\n",
    "print(f\"75th Percentile: {total_power_description['75%']:.2f}\")\n",
    "print(f\"Maximum: {total_power_description['max']:.2f}\")"
   ]
  },
  {
   "cell_type": "code",
   "execution_count": 8,
   "metadata": {},
   "outputs": [
    {
     "data": {
      "text/plain": [
       "X1        0\n",
       "X48       0\n",
       "X49       0\n",
       "Y49       0\n",
       "Power1    0\n",
       "dtype: int64"
      ]
     },
     "execution_count": 8,
     "metadata": {},
     "output_type": "execute_result"
    }
   ],
   "source": [
    "total_missing = wave_df.isnull().sum().sort_values(ascending=False)\n",
    "total_missing.head()"
   ]
  },
  {
   "cell_type": "code",
   "execution_count": 9,
   "metadata": {},
   "outputs": [
    {
     "data": {
      "image/png": "[encoded data removed]",
      "text/plain": [
       "<Figure size 640x480 with 1 Axes>"
      ]
     },
     "metadata": {},
     "output_type": "display_data"
    }
   ],
   "source": [
    "fig, ax = plt.subplots()\n",
    "ax.scatter(x=wave_df[\"X1\"], y=wave_df[\"Total_Power\"])\n",
    "plt.ylabel(\"Total_Power\", fontsize=13)\n",
    "plt.xlabel(\"X1\", fontsize=13)\n",
    "plt.show()"
   ]
  },
  {
   "cell_type": "code",
   "execution_count": 10,
   "metadata": {},
   "outputs": [
    {
     "name": "stderr",
     "output_type": "stream",
     "text": [
      "/var/folders/sr/jl7fn_fj5_50nxl5r18wxlj80000gn/T/ipykernel_2842/724532064.py:1: UserWarning: \n",
      "\n",
      "`distplot` is a deprecated function and will be removed in seaborn v0.14.0.\n",
      "\n",
      "Please adapt your code to use either `displot` (a figure-level function with\n",
      "similar flexibility) or `histplot` (an axes-level function for histograms).\n",
      "\n",
      "For a guide to updating your code to use the new functions, please see\n",
      "https://gist.github.com/mwaskom/de44147ed2974457ad6372750bbe5751\n",
      "\n",
      "  sns.distplot(wave_df[\"Total_Power\"], fit=norm)\n"
     ]
    },
    {
     "name": "stdout",
     "output_type": "stream",
     "text": [
      "\n",
      " mu = 3938246.46 and sigma = 122615.45\n",
      "\n"
     ]
    },
    {
     "data": {
      "image/png": "[encoded data removed]",
      "text/plain": [
       "<Figure size 640x480 with 1 Axes>"
      ]
     },
     "metadata": {},
     "output_type": "display_data"
    },
    {
     "data": {
      "image/png": "[encoded data removed]",
      "text/plain": [
       "<Figure size 640x480 with 1 Axes>"
      ]
     },
     "metadata": {},
     "output_type": "display_data"
    }
   ],
   "source": [
    "sns.distplot(wave_df[\"Total_Power\"], fit=norm)\n",
    "\n",
    "# Get the fitted parameters used by the function\n",
    "(mu, sigma) = norm.fit(wave_df[\"Total_Power\"])\n",
    "print(\"\\n mu = {:.2f} and sigma = {:.2f}\\n\".format(mu, sigma))\n",
    "\n",
    "# Now plot the distribution\n",
    "plt.legend(\n",
    "    [\"Normal dist. ($\\mu=$ {:.2f} and $\\sigma=$ {:.2f} )\".format(mu, sigma)], loc=\"best\"\n",
    ")\n",
    "plt.ylabel(\"Frequency\")\n",
    "plt.title(\"Total Power distribution\")\n",
    "\n",
    "# Get also the QQ-plot\n",
    "fig = plt.figure()\n",
    "res = probplot(wave_df[\"Total_Power\"], plot=plt)\n",
    "plt.show()"
   ]
  },
  {
   "cell_type": "code",
   "execution_count": 11,
   "metadata": {},
   "outputs": [
    {
     "name": "stderr",
     "output_type": "stream",
     "text": [
      "/var/folders/sr/jl7fn_fj5_50nxl5r18wxlj80000gn/T/ipykernel_2842/1917849728.py:5: UserWarning: \n",
      "\n",
      "`distplot` is a deprecated function and will be removed in seaborn v0.14.0.\n",
      "\n",
      "Please adapt your code to use either `displot` (a figure-level function with\n",
      "similar flexibility) or `histplot` (an axes-level function for histograms).\n",
      "\n",
      "For a guide to updating your code to use the new functions, please see\n",
      "https://gist.github.com/mwaskom/de44147ed2974457ad6372750bbe5751\n",
      "\n",
      "  sns.distplot(wave_df[\"Total_Power_normalized\"], fit=norm)\n"
     ]
    },
    {
     "name": "stdout",
     "output_type": "stream",
     "text": [
      "\n",
      " mu = 15.19 and sigma = 0.03\n",
      "\n"
     ]
    },
    {
     "data": {
      "image/png": "[encoded data removed]",
      "text/plain": [
       "<Figure size 640x480 with 1 Axes>"
      ]
     },
     "metadata": {},
     "output_type": "display_data"
    },
    {
     "data": {
      "image/png": "[encoded data removed]",
      "text/plain": [
       "<Figure size 640x480 with 1 Axes>"
      ]
     },
     "metadata": {},
     "output_type": "display_data"
    }
   ],
   "source": [
    "# We use the numpy fuction log1p which  applies log(1+x) to all elements of the column\n",
    "wave_df[\"Total_Power_normalized\"] = np.log1p(wave_df[\"Total_Power\"])\n",
    "\n",
    "# Check the new distribution\n",
    "sns.distplot(wave_df[\"Total_Power_normalized\"], fit=norm)\n",
    "\n",
    "# Get the fitted parameters used by the function\n",
    "(mu, sigma) = norm.fit(wave_df[\"Total_Power_normalized\"])\n",
    "print(\"\\n mu = {:.2f} and sigma = {:.2f}\\n\".format(mu, sigma))\n",
    "\n",
    "# Now plot the distribution\n",
    "plt.legend(\n",
    "    [\"Normal dist. ($\\mu=$ {:.2f} and $\\sigma=$ {:.2f} )\".format(mu, sigma)], loc=\"best\"\n",
    ")\n",
    "plt.ylabel(\"Frequency\")\n",
    "plt.title(\"Salary distribution\")\n",
    "\n",
    "# Get also the QQ-plot\n",
    "fig = plt.figure()\n",
    "res = probplot(wave_df[\"Total_Power_normalized\"], plot=plt)\n",
    "plt.show()"
   ]
  },
  {
   "cell_type": "code",
   "execution_count": 12,
   "metadata": {},
   "outputs": [
    {
     "name": "stdout",
     "output_type": "stream",
     "text": [
      "X10            1.000000\n",
      "Power10        0.775019\n",
      "X9             0.568296\n",
      "Power9         0.528050\n",
      "X11            0.469674\n",
      "Power11        0.415281\n",
      "X22            0.365280\n",
      "X29            0.343628\n",
      "Y7             0.335187\n",
      "X36            0.332663\n",
      "Y4             0.321693\n",
      "Power22        0.313907\n",
      "X30            0.293203\n",
      "Power12        0.292470\n",
      "Y49            0.281972\n",
      "X17            0.267511\n",
      "X43            0.266576\n",
      "X12            0.264988\n",
      "qW             0.260970\n",
      "Total_Power    0.255393\n",
      "Name: X10, dtype: float64\n"
     ]
    }
   ],
   "source": [
    "corrmat = wave_df.corr()\n",
    "tp_correlations = corrmat['X10']\n",
    "print(tp_correlations.sort_values(ascending=False).head(20))"
   ]
  },
  {
   "cell_type": "markdown",
   "metadata": {},
   "source": [
    "#### I think i would have to strip all the power features since they are so highly correlated to total power"
   ]
  },
  {
   "cell_type": "code",
   "execution_count": 13,
   "metadata": {},
   "outputs": [
    {
     "data": {
      "text/html": [
       "<div>\n",
       "<style scoped>\n",
       "    .dataframe tbody tr th:only-of-type {\n",
       "        vertical-align: middle;\n",
       "    }\n",
       "\n",
       "    .dataframe tbody tr th {\n",
       "        vertical-align: top;\n",
       "    }\n",
       "\n",
       "    .dataframe thead th {\n",
       "        text-align: right;\n",
       "    }\n",
       "</style>\n",
       "<table border=\"1\" class=\"dataframe\">\n",
       "  <thead>\n",
       "    <tr style=\"text-align: right;\">\n",
       "      <th></th>\n",
       "      <th>X1</th>\n",
       "      <th>Y1</th>\n",
       "      <th>X2</th>\n",
       "      <th>Y2</th>\n",
       "      <th>X3</th>\n",
       "      <th>Y3</th>\n",
       "      <th>X4</th>\n",
       "      <th>Y4</th>\n",
       "      <th>X5</th>\n",
       "      <th>Y5</th>\n",
       "      <th>...</th>\n",
       "      <th>X46</th>\n",
       "      <th>Y46</th>\n",
       "      <th>X47</th>\n",
       "      <th>Y47</th>\n",
       "      <th>X48</th>\n",
       "      <th>Y48</th>\n",
       "      <th>X49</th>\n",
       "      <th>Y49</th>\n",
       "      <th>Total_Power</th>\n",
       "      <th>Total_Power_normalized</th>\n",
       "    </tr>\n",
       "  </thead>\n",
       "  <tbody>\n",
       "    <tr>\n",
       "      <th>0</th>\n",
       "      <td>600.0</td>\n",
       "      <td>0.0</td>\n",
       "      <td>546.16</td>\n",
       "      <td>37.50</td>\n",
       "      <td>489.79</td>\n",
       "      <td>74.88</td>\n",
       "      <td>432.47</td>\n",
       "      <td>112.05</td>\n",
       "      <td>650.0</td>\n",
       "      <td>0.0</td>\n",
       "      <td>...</td>\n",
       "      <td>346.16</td>\n",
       "      <td>837.50</td>\n",
       "      <td>289.79</td>\n",
       "      <td>874.88</td>\n",
       "      <td>232.47</td>\n",
       "      <td>912.05</td>\n",
       "      <td>0.0</td>\n",
       "      <td>1010.0</td>\n",
       "      <td>4102461.43</td>\n",
       "      <td>15.227098</td>\n",
       "    </tr>\n",
       "    <tr>\n",
       "      <th>1</th>\n",
       "      <td>593.0</td>\n",
       "      <td>12.0</td>\n",
       "      <td>546.16</td>\n",
       "      <td>37.50</td>\n",
       "      <td>489.79</td>\n",
       "      <td>74.88</td>\n",
       "      <td>432.47</td>\n",
       "      <td>112.05</td>\n",
       "      <td>644.0</td>\n",
       "      <td>8.0</td>\n",
       "      <td>...</td>\n",
       "      <td>346.16</td>\n",
       "      <td>837.50</td>\n",
       "      <td>289.79</td>\n",
       "      <td>874.88</td>\n",
       "      <td>232.47</td>\n",
       "      <td>912.05</td>\n",
       "      <td>0.0</td>\n",
       "      <td>1010.0</td>\n",
       "      <td>4103361.41</td>\n",
       "      <td>15.227317</td>\n",
       "    </tr>\n",
       "    <tr>\n",
       "      <th>2</th>\n",
       "      <td>593.0</td>\n",
       "      <td>12.0</td>\n",
       "      <td>546.16</td>\n",
       "      <td>37.50</td>\n",
       "      <td>489.79</td>\n",
       "      <td>74.88</td>\n",
       "      <td>432.47</td>\n",
       "      <td>112.05</td>\n",
       "      <td>644.0</td>\n",
       "      <td>8.0</td>\n",
       "      <td>...</td>\n",
       "      <td>346.16</td>\n",
       "      <td>837.50</td>\n",
       "      <td>289.79</td>\n",
       "      <td>874.88</td>\n",
       "      <td>232.47</td>\n",
       "      <td>912.05</td>\n",
       "      <td>0.0</td>\n",
       "      <td>1010.0</td>\n",
       "      <td>4103680.44</td>\n",
       "      <td>15.227395</td>\n",
       "    </tr>\n",
       "    <tr>\n",
       "      <th>3</th>\n",
       "      <td>593.0</td>\n",
       "      <td>12.0</td>\n",
       "      <td>546.16</td>\n",
       "      <td>37.50</td>\n",
       "      <td>489.79</td>\n",
       "      <td>74.88</td>\n",
       "      <td>432.47</td>\n",
       "      <td>112.05</td>\n",
       "      <td>644.0</td>\n",
       "      <td>8.0</td>\n",
       "      <td>...</td>\n",
       "      <td>346.16</td>\n",
       "      <td>837.50</td>\n",
       "      <td>289.79</td>\n",
       "      <td>874.88</td>\n",
       "      <td>232.47</td>\n",
       "      <td>912.05</td>\n",
       "      <td>0.0</td>\n",
       "      <td>1010.0</td>\n",
       "      <td>4105661.06</td>\n",
       "      <td>15.227878</td>\n",
       "    </tr>\n",
       "    <tr>\n",
       "      <th>4</th>\n",
       "      <td>200.0</td>\n",
       "      <td>0.0</td>\n",
       "      <td>146.17</td>\n",
       "      <td>37.53</td>\n",
       "      <td>89.76</td>\n",
       "      <td>74.93</td>\n",
       "      <td>32.40</td>\n",
       "      <td>112.18</td>\n",
       "      <td>400.0</td>\n",
       "      <td>0.0</td>\n",
       "      <td>...</td>\n",
       "      <td>746.17</td>\n",
       "      <td>837.53</td>\n",
       "      <td>689.76</td>\n",
       "      <td>874.93</td>\n",
       "      <td>632.40</td>\n",
       "      <td>912.18</td>\n",
       "      <td>0.0</td>\n",
       "      <td>1010.0</td>\n",
       "      <td>3752648.77</td>\n",
       "      <td>15.137973</td>\n",
       "    </tr>\n",
       "    <tr>\n",
       "      <th>...</th>\n",
       "      <td>...</td>\n",
       "      <td>...</td>\n",
       "      <td>...</td>\n",
       "      <td>...</td>\n",
       "      <td>...</td>\n",
       "      <td>...</td>\n",
       "      <td>...</td>\n",
       "      <td>...</td>\n",
       "      <td>...</td>\n",
       "      <td>...</td>\n",
       "      <td>...</td>\n",
       "      <td>...</td>\n",
       "      <td>...</td>\n",
       "      <td>...</td>\n",
       "      <td>...</td>\n",
       "      <td>...</td>\n",
       "      <td>...</td>\n",
       "      <td>...</td>\n",
       "      <td>...</td>\n",
       "      <td>...</td>\n",
       "      <td>...</td>\n",
       "    </tr>\n",
       "    <tr>\n",
       "      <th>36038</th>\n",
       "      <td>100.0</td>\n",
       "      <td>250.0</td>\n",
       "      <td>250.00</td>\n",
       "      <td>250.00</td>\n",
       "      <td>300.00</td>\n",
       "      <td>200.00</td>\n",
       "      <td>400.00</td>\n",
       "      <td>100.00</td>\n",
       "      <td>900.0</td>\n",
       "      <td>150.0</td>\n",
       "      <td>...</td>\n",
       "      <td>400.00</td>\n",
       "      <td>650.00</td>\n",
       "      <td>950.00</td>\n",
       "      <td>150.00</td>\n",
       "      <td>850.00</td>\n",
       "      <td>900.00</td>\n",
       "      <td>900.0</td>\n",
       "      <td>850.0</td>\n",
       "      <td>4048188.53</td>\n",
       "      <td>15.213780</td>\n",
       "    </tr>\n",
       "    <tr>\n",
       "      <th>36039</th>\n",
       "      <td>250.0</td>\n",
       "      <td>200.0</td>\n",
       "      <td>500.00</td>\n",
       "      <td>150.00</td>\n",
       "      <td>350.00</td>\n",
       "      <td>200.00</td>\n",
       "      <td>700.00</td>\n",
       "      <td>500.00</td>\n",
       "      <td>50.0</td>\n",
       "      <td>250.0</td>\n",
       "      <td>...</td>\n",
       "      <td>500.00</td>\n",
       "      <td>650.00</td>\n",
       "      <td>200.00</td>\n",
       "      <td>350.00</td>\n",
       "      <td>350.00</td>\n",
       "      <td>800.00</td>\n",
       "      <td>450.0</td>\n",
       "      <td>700.0</td>\n",
       "      <td>4033017.16</td>\n",
       "      <td>15.210026</td>\n",
       "    </tr>\n",
       "    <tr>\n",
       "      <th>36040</th>\n",
       "      <td>200.0</td>\n",
       "      <td>100.0</td>\n",
       "      <td>400.00</td>\n",
       "      <td>100.00</td>\n",
       "      <td>350.00</td>\n",
       "      <td>500.00</td>\n",
       "      <td>750.00</td>\n",
       "      <td>200.00</td>\n",
       "      <td>700.0</td>\n",
       "      <td>250.0</td>\n",
       "      <td>...</td>\n",
       "      <td>150.00</td>\n",
       "      <td>850.00</td>\n",
       "      <td>350.00</td>\n",
       "      <td>600.00</td>\n",
       "      <td>250.00</td>\n",
       "      <td>750.00</td>\n",
       "      <td>650.0</td>\n",
       "      <td>850.0</td>\n",
       "      <td>4048053.62</td>\n",
       "      <td>15.213747</td>\n",
       "    </tr>\n",
       "    <tr>\n",
       "      <th>36041</th>\n",
       "      <td>500.0</td>\n",
       "      <td>250.0</td>\n",
       "      <td>350.00</td>\n",
       "      <td>350.00</td>\n",
       "      <td>1000.00</td>\n",
       "      <td>250.00</td>\n",
       "      <td>550.00</td>\n",
       "      <td>150.00</td>\n",
       "      <td>800.0</td>\n",
       "      <td>0.0</td>\n",
       "      <td>...</td>\n",
       "      <td>100.00</td>\n",
       "      <td>850.00</td>\n",
       "      <td>500.00</td>\n",
       "      <td>700.00</td>\n",
       "      <td>300.00</td>\n",
       "      <td>350.00</td>\n",
       "      <td>250.0</td>\n",
       "      <td>800.0</td>\n",
       "      <td>4062515.64</td>\n",
       "      <td>15.217313</td>\n",
       "    </tr>\n",
       "    <tr>\n",
       "      <th>36042</th>\n",
       "      <td>100.0</td>\n",
       "      <td>400.0</td>\n",
       "      <td>400.00</td>\n",
       "      <td>700.00</td>\n",
       "      <td>400.00</td>\n",
       "      <td>200.00</td>\n",
       "      <td>800.00</td>\n",
       "      <td>50.00</td>\n",
       "      <td>350.0</td>\n",
       "      <td>250.0</td>\n",
       "      <td>...</td>\n",
       "      <td>550.00</td>\n",
       "      <td>250.00</td>\n",
       "      <td>950.00</td>\n",
       "      <td>100.00</td>\n",
       "      <td>500.00</td>\n",
       "      <td>550.00</td>\n",
       "      <td>750.0</td>\n",
       "      <td>250.0</td>\n",
       "      <td>4057544.99</td>\n",
       "      <td>15.216089</td>\n",
       "    </tr>\n",
       "  </tbody>\n",
       "</table>\n",
       "<p>36043 rows × 100 columns</p>\n",
       "</div>"
      ],
      "text/plain": [
       "          X1     Y1      X2      Y2       X3      Y3      X4      Y4     X5  \\\n",
       "0      600.0    0.0  546.16   37.50   489.79   74.88  432.47  112.05  650.0   \n",
       "1      593.0   12.0  546.16   37.50   489.79   74.88  432.47  112.05  644.0   \n",
       "2      593.0   12.0  546.16   37.50   489.79   74.88  432.47  112.05  644.0   \n",
       "3      593.0   12.0  546.16   37.50   489.79   74.88  432.47  112.05  644.0   \n",
       "4      200.0    0.0  146.17   37.53    89.76   74.93   32.40  112.18  400.0   \n",
       "...      ...    ...     ...     ...      ...     ...     ...     ...    ...   \n",
       "36038  100.0  250.0  250.00  250.00   300.00  200.00  400.00  100.00  900.0   \n",
       "36039  250.0  200.0  500.00  150.00   350.00  200.00  700.00  500.00   50.0   \n",
       "36040  200.0  100.0  400.00  100.00   350.00  500.00  750.00  200.00  700.0   \n",
       "36041  500.0  250.0  350.00  350.00  1000.00  250.00  550.00  150.00  800.0   \n",
       "36042  100.0  400.0  400.00  700.00   400.00  200.00  800.00   50.00  350.0   \n",
       "\n",
       "          Y5  ...     X46     Y46     X47     Y47     X48     Y48    X49  \\\n",
       "0        0.0  ...  346.16  837.50  289.79  874.88  232.47  912.05    0.0   \n",
       "1        8.0  ...  346.16  837.50  289.79  874.88  232.47  912.05    0.0   \n",
       "2        8.0  ...  346.16  837.50  289.79  874.88  232.47  912.05    0.0   \n",
       "3        8.0  ...  346.16  837.50  289.79  874.88  232.47  912.05    0.0   \n",
       "4        0.0  ...  746.17  837.53  689.76  874.93  632.40  912.18    0.0   \n",
       "...      ...  ...     ...     ...     ...     ...     ...     ...    ...   \n",
       "36038  150.0  ...  400.00  650.00  950.00  150.00  850.00  900.00  900.0   \n",
       "36039  250.0  ...  500.00  650.00  200.00  350.00  350.00  800.00  450.0   \n",
       "36040  250.0  ...  150.00  850.00  350.00  600.00  250.00  750.00  650.0   \n",
       "36041    0.0  ...  100.00  850.00  500.00  700.00  300.00  350.00  250.0   \n",
       "36042  250.0  ...  550.00  250.00  950.00  100.00  500.00  550.00  750.0   \n",
       "\n",
       "          Y49  Total_Power  Total_Power_normalized  \n",
       "0      1010.0   4102461.43               15.227098  \n",
       "1      1010.0   4103361.41               15.227317  \n",
       "2      1010.0   4103680.44               15.227395  \n",
       "3      1010.0   4105661.06               15.227878  \n",
       "4      1010.0   3752648.77               15.137973  \n",
       "...       ...          ...                     ...  \n",
       "36038   850.0   4048188.53               15.213780  \n",
       "36039   700.0   4033017.16               15.210026  \n",
       "36040   850.0   4048053.62               15.213747  \n",
       "36041   800.0   4062515.64               15.217313  \n",
       "36042   250.0   4057544.99               15.216089  \n",
       "\n",
       "[36043 rows x 100 columns]"
      ]
     },
     "execution_count": 13,
     "metadata": {},
     "output_type": "execute_result"
    }
   ],
   "source": [
    "# List of columns to drop\n",
    "cols_to_drop = [f'Power{i}' for i in range(1, 50)]\n",
    "\n",
    "# Drop the columns\n",
    "wave_df = wave_df.drop(columns=cols_to_drop)\n",
    "wave_df = wave_df.drop(columns=\"qW\")\n",
    "\n",
    "wave_df"
   ]
  },
  {
   "cell_type": "code",
   "execution_count": 14,
   "metadata": {},
   "outputs": [
    {
     "data": {
      "text/plain": [
       "(36043, 100)"
      ]
     },
     "execution_count": 14,
     "metadata": {},
     "output_type": "execute_result"
    }
   ],
   "source": [
    "wave_df.shape"
   ]
  },
  {
   "cell_type": "markdown",
   "metadata": {},
   "source": [
    "## CNN"
   ]
  },
  {
   "cell_type": "code",
   "execution_count": 15,
   "metadata": {},
   "outputs": [],
   "source": [
    "target = 'Total_Power_normalized'\n",
    "predictors = wave_df.columns.difference([target, 'Total_Power'])\n",
    "cnn_results = []"
   ]
  },
  {
   "cell_type": "code",
   "execution_count": 16,
   "metadata": {},
   "outputs": [],
   "source": [
    "# split data\n",
    "\n",
    "X = wave_df[predictors]\n",
    "y = wave_df[target]\n",
    "\n",
    "# Split the data into training and test sets\n",
    "X_train, X_test, y_train, y_test = train_test_split(X, y, test_size=0.2, random_state=8)"
   ]
  },
  {
   "cell_type": "code",
   "execution_count": 17,
   "metadata": {},
   "outputs": [
    {
     "data": {
      "text/plain": [
       "(28834, 98)"
      ]
     },
     "execution_count": 17,
     "metadata": {},
     "output_type": "execute_result"
    }
   ],
   "source": [
    "X_train.shape"
   ]
  },
  {
   "cell_type": "code",
   "execution_count": 18,
   "metadata": {},
   "outputs": [
    {
     "data": {
      "text/plain": [
       "((28834, 98, 1), (7209, 98, 1), (28834,), (7209,))"
      ]
     },
     "execution_count": 18,
     "metadata": {},
     "output_type": "execute_result"
    }
   ],
   "source": [
    "# Normalize the features\n",
    "scaler = StandardScaler()\n",
    "X_train_scaled = scaler.fit_transform(X_train)\n",
    "X_test_scaled = scaler.transform(X_test)\n",
    "\n",
    "# Convert data to numpy arrays and reshape for CNN\n",
    "X_train_scaled = np.array(X_train_scaled).reshape(X_train_scaled.shape[0], X_train_scaled.shape[1], 1)\n",
    "X_test_scaled = np.array(X_test_scaled).reshape(X_test_scaled.shape[0], X_test_scaled.shape[1], 1)\n",
    "y_train = np.array(y_train)\n",
    "y_test = np.array(y_test)\n",
    "\n",
    "X_train_scaled.shape, X_test_scaled.shape, y_train.shape, y_test.shape"
   ]
  },
  {
   "cell_type": "code",
   "execution_count": 19,
   "metadata": {},
   "outputs": [],
   "source": [
    "# Define the RMSE metric\n",
    "def rmse(y_true, y_pred):\n",
    "    y_true = tf.cast(y_true, tf.float32)  # Ensure y_true is of type float32\n",
    "    return tf.sqrt(tf.reduce_mean(tf.square(y_pred - y_true)))"
   ]
  },
  {
   "cell_type": "code",
   "execution_count": 20,
   "metadata": {},
   "outputs": [],
   "source": [
    "# Define the log directory\n",
    "log_dir = \"logs\"\n",
    "\n",
    "# Clear the log directory\n",
    "if os.path.exists(log_dir):\n",
    "    shutil.rmtree(log_dir)\n",
    "\n",
    "# Create the log directory if it doesn't exist\n",
    "os.makedirs(log_dir)"
   ]
  },
  {
   "cell_type": "code",
   "execution_count": 23,
   "metadata": {},
   "outputs": [],
   "source": [
    "NAME = \"totPowerCNN\"\n",
    "\n",
    "# Define the CNN model\n",
    "model = Sequential()\n",
    "\n",
    "# Add the Input layer\n",
    "model.add(Input(shape=(X_train_scaled.shape[1], 1)))\n",
    "\n",
    "model.add(Conv1D(64, kernel_size=2, activation='relu'))\n",
    "model.add(MaxPooling1D(pool_size=2))\n",
    "model.add(Dropout(0.2))\n",
    "\n",
    "model.add(Conv1D(32, kernel_size=2, activation='relu'))\n",
    "model.add(MaxPooling1D(pool_size=2))\n",
    "model.add(Dropout(0.2))\n",
    "\n",
    "model.add(Flatten())\n",
    "model.add(Dense(128, activation='relu'))\n",
    "model.add(Dropout(0.2))\n",
    "model.add(Dense(1))  # Output layer for regression\n",
    "\n",
    "tensorboard = TensorBoard(log_dir=\"logs/{}\".format(NAME))\n",
    "\n",
    "early_stopping = tf.keras.callbacks.EarlyStopping(monitor='loss', patience=5, verbose=1)\n",
    "\n",
    "# Compile the model\n",
    "model.compile(optimizer='adam', loss=rmse, metrics=[rmse])"
   ]
  },
  {
   "cell_type": "code",
   "execution_count": 24,
   "metadata": {},
   "outputs": [
    {
     "name": "stdout",
     "output_type": "stream",
     "text": [
      "Epoch 1/100\n",
      "\u001b[1m721/721\u001b[0m \u001b[32m━━━━━━━━━━━━━━━━━━━━\u001b[0m\u001b[37m\u001b[0m \u001b[1m7s\u001b[0m 7ms/step - loss: 17.3429 - rmse: 17.3427 - val_loss: 4.3072 - val_rmse: 4.3066\n",
      "Epoch 2/100\n",
      "\u001b[1m721/721\u001b[0m \u001b[32m━━━━━━━━━━━━━━━━━━━━\u001b[0m\u001b[37m\u001b[0m \u001b[1m5s\u001b[0m 7ms/step - loss: 2.3043 - rmse: 2.3056 - val_loss: 3.4389 - val_rmse: 3.4396\n",
      "Epoch 3/100\n",
      "\u001b[1m721/721\u001b[0m \u001b[32m━━━━━━━━━━━━━━━━━━━━\u001b[0m\u001b[37m\u001b[0m \u001b[1m5s\u001b[0m 7ms/step - loss: 2.2220 - rmse: 2.2232 - val_loss: 4.2210 - val_rmse: 4.2215\n",
      "Epoch 4/100\n",
      "\u001b[1m721/721\u001b[0m \u001b[32m━━━━━━━━━━━━━━━━━━━━\u001b[0m\u001b[37m\u001b[0m \u001b[1m5s\u001b[0m 7ms/step - loss: 2.1520 - rmse: 2.1532 - val_loss: 4.2116 - val_rmse: 4.2123\n",
      "Epoch 5/100\n",
      "\u001b[1m721/721\u001b[0m \u001b[32m━━━━━━━━━━━━━━━━━━━━\u001b[0m\u001b[37m\u001b[0m \u001b[1m5s\u001b[0m 7ms/step - loss: 2.0821 - rmse: 2.0834 - val_loss: 2.3951 - val_rmse: 2.3962\n",
      "Epoch 6/100\n",
      "\u001b[1m721/721\u001b[0m \u001b[32m━━━━━━━━━━━━━━━━━━━━\u001b[0m\u001b[37m\u001b[0m \u001b[1m5s\u001b[0m 7ms/step - loss: 1.9829 - rmse: 1.9844 - val_loss: 2.4648 - val_rmse: 2.4659\n",
      "Epoch 7/100\n",
      "\u001b[1m721/721\u001b[0m \u001b[32m━━━━━━━━━━━━━━━━━━━━\u001b[0m\u001b[37m\u001b[0m \u001b[1m5s\u001b[0m 7ms/step - loss: 1.8956 - rmse: 1.8971 - val_loss: 3.1560 - val_rmse: 3.1567\n",
      "Epoch 8/100\n",
      "\u001b[1m721/721\u001b[0m \u001b[32m━━━━━━━━━━━━━━━━━━━━\u001b[0m\u001b[37m\u001b[0m \u001b[1m5s\u001b[0m 7ms/step - loss: 1.8331 - rmse: 1.8350 - val_loss: 3.1886 - val_rmse: 3.1901\n",
      "Epoch 9/100\n",
      "\u001b[1m721/721\u001b[0m \u001b[32m━━━━━━━━━━━━━━━━━━━━\u001b[0m\u001b[37m\u001b[0m \u001b[1m5s\u001b[0m 7ms/step - loss: 1.8072 - rmse: 1.8090 - val_loss: 3.4242 - val_rmse: 3.4246\n",
      "Epoch 10/100\n",
      "\u001b[1m721/721\u001b[0m \u001b[32m━━━━━━━━━━━━━━━━━━━━\u001b[0m\u001b[37m\u001b[0m \u001b[1m5s\u001b[0m 7ms/step - loss: 1.7591 - rmse: 1.7604 - val_loss: 2.7320 - val_rmse: 2.7324\n",
      "Epoch 11/100\n",
      "\u001b[1m721/721\u001b[0m \u001b[32m━━━━━━━━━━━━━━━━━━━━\u001b[0m\u001b[37m\u001b[0m \u001b[1m5s\u001b[0m 7ms/step - loss: 1.7057 - rmse: 1.7073 - val_loss: 3.0134 - val_rmse: 3.0138\n",
      "Epoch 12/100\n",
      "\u001b[1m721/721\u001b[0m \u001b[32m━━━━━━━━━━━━━━━━━━━━\u001b[0m\u001b[37m\u001b[0m \u001b[1m5s\u001b[0m 7ms/step - loss: 1.6756 - rmse: 1.6769 - val_loss: 2.7982 - val_rmse: 2.7982\n",
      "Epoch 13/100\n",
      "\u001b[1m721/721\u001b[0m \u001b[32m━━━━━━━━━━━━━━━━━━━━\u001b[0m\u001b[37m\u001b[0m \u001b[1m5s\u001b[0m 7ms/step - loss: 1.5881 - rmse: 1.5894 - val_loss: 2.5924 - val_rmse: 2.5929\n",
      "Epoch 14/100\n",
      "\u001b[1m721/721\u001b[0m \u001b[32m━━━━━━━━━━━━━━━━━━━━\u001b[0m\u001b[37m\u001b[0m \u001b[1m6s\u001b[0m 8ms/step - loss: 1.5542 - rmse: 1.5556 - val_loss: 2.4710 - val_rmse: 2.4715\n",
      "Epoch 15/100\n",
      "\u001b[1m721/721\u001b[0m \u001b[32m━━━━━━━━━━━━━━━━━━━━\u001b[0m\u001b[37m\u001b[0m \u001b[1m6s\u001b[0m 8ms/step - loss: 1.5225 - rmse: 1.5238 - val_loss: 2.3463 - val_rmse: 2.3470\n",
      "Epoch 16/100\n",
      "\u001b[1m721/721\u001b[0m \u001b[32m━━━━━━━━━━━━━━━━━━━━\u001b[0m\u001b[37m\u001b[0m \u001b[1m5s\u001b[0m 7ms/step - loss: 1.4510 - rmse: 1.4523 - val_loss: 1.5506 - val_rmse: 1.5515\n",
      "Epoch 17/100\n",
      "\u001b[1m721/721\u001b[0m \u001b[32m━━━━━━━━━━━━━━━━━━━━\u001b[0m\u001b[37m\u001b[0m \u001b[1m5s\u001b[0m 7ms/step - loss: 1.4131 - rmse: 1.4146 - val_loss: 2.0781 - val_rmse: 2.0785\n",
      "Epoch 18/100\n",
      "\u001b[1m721/721\u001b[0m \u001b[32m━━━━━━━━━━━━━━━━━━━━\u001b[0m\u001b[37m\u001b[0m \u001b[1m5s\u001b[0m 7ms/step - loss: 1.3391 - rmse: 1.3403 - val_loss: 2.0366 - val_rmse: 2.0376\n",
      "Epoch 19/100\n",
      "\u001b[1m721/721\u001b[0m \u001b[32m━━━━━━━━━━━━━━━━━━━━\u001b[0m\u001b[37m\u001b[0m \u001b[1m5s\u001b[0m 7ms/step - loss: 1.2931 - rmse: 1.2946 - val_loss: 1.3585 - val_rmse: 1.3595\n",
      "Epoch 20/100\n",
      "\u001b[1m721/721\u001b[0m \u001b[32m━━━━━━━━━━━━━━━━━━━━\u001b[0m\u001b[37m\u001b[0m \u001b[1m5s\u001b[0m 7ms/step - loss: 1.2520 - rmse: 1.2537 - val_loss: 1.3452 - val_rmse: 1.3468\n",
      "Epoch 21/100\n",
      "\u001b[1m721/721\u001b[0m \u001b[32m━━━━━━━━━━━━━━━━━━━━\u001b[0m\u001b[37m\u001b[0m \u001b[1m5s\u001b[0m 7ms/step - loss: 1.1559 - rmse: 1.1565 - val_loss: 0.4222 - val_rmse: 0.4229\n",
      "Epoch 22/100\n",
      "\u001b[1m721/721\u001b[0m \u001b[32m━━━━━━━━━━━━━━━━━━━━\u001b[0m\u001b[37m\u001b[0m \u001b[1m5s\u001b[0m 7ms/step - loss: 1.0913 - rmse: 1.0917 - val_loss: 0.1569 - val_rmse: 0.1570\n",
      "Epoch 23/100\n",
      "\u001b[1m721/721\u001b[0m \u001b[32m━━━━━━━━━━━━━━━━━━━━\u001b[0m\u001b[37m\u001b[0m \u001b[1m5s\u001b[0m 7ms/step - loss: 1.0449 - rmse: 1.0448 - val_loss: 0.2181 - val_rmse: 0.2182\n",
      "Epoch 24/100\n",
      "\u001b[1m721/721\u001b[0m \u001b[32m━━━━━━━━━━━━━━━━━━━━\u001b[0m\u001b[37m\u001b[0m \u001b[1m5s\u001b[0m 7ms/step - loss: 1.0035 - rmse: 1.0039 - val_loss: 0.0720 - val_rmse: 0.0724\n",
      "Epoch 25/100\n",
      "\u001b[1m721/721\u001b[0m \u001b[32m━━━━━━━━━━━━━━━━━━━━\u001b[0m\u001b[37m\u001b[0m \u001b[1m5s\u001b[0m 7ms/step - loss: 0.9469 - rmse: 0.9471 - val_loss: 0.1256 - val_rmse: 0.1258\n",
      "Epoch 26/100\n",
      "\u001b[1m721/721\u001b[0m \u001b[32m━━━━━━━━━━━━━━━━━━━━\u001b[0m\u001b[37m\u001b[0m \u001b[1m5s\u001b[0m 7ms/step - loss: 0.9215 - rmse: 0.9217 - val_loss: 0.0716 - val_rmse: 0.0721\n",
      "Epoch 27/100\n",
      "\u001b[1m721/721\u001b[0m \u001b[32m━━━━━━━━━━━━━━━━━━━━\u001b[0m\u001b[37m\u001b[0m \u001b[1m5s\u001b[0m 7ms/step - loss: 0.8660 - rmse: 0.8661 - val_loss: 0.0473 - val_rmse: 0.0479\n",
      "Epoch 28/100\n",
      "\u001b[1m721/721\u001b[0m \u001b[32m━━━━━━━━━━━━━━━━━━━━\u001b[0m\u001b[37m\u001b[0m \u001b[1m5s\u001b[0m 7ms/step - loss: 0.8332 - rmse: 0.8333 - val_loss: 0.2551 - val_rmse: 0.2551\n",
      "Epoch 29/100\n",
      "\u001b[1m721/721\u001b[0m \u001b[32m━━━━━━━━━━━━━━━━━━━━\u001b[0m\u001b[37m\u001b[0m \u001b[1m5s\u001b[0m 7ms/step - loss: 0.7986 - rmse: 0.7985 - val_loss: 0.1509 - val_rmse: 0.1512\n",
      "Epoch 30/100\n",
      "\u001b[1m721/721\u001b[0m \u001b[32m━━━━━━━━━━━━━━━━━━━━\u001b[0m\u001b[37m\u001b[0m \u001b[1m5s\u001b[0m 7ms/step - loss: 0.7499 - rmse: 0.7496 - val_loss: 0.2780 - val_rmse: 0.2781\n",
      "Epoch 31/100\n",
      "\u001b[1m721/721\u001b[0m \u001b[32m━━━━━━━━━━━━━━━━━━━━\u001b[0m\u001b[37m\u001b[0m \u001b[1m5s\u001b[0m 7ms/step - loss: 0.7165 - rmse: 0.7165 - val_loss: 0.1165 - val_rmse: 0.1171\n",
      "Epoch 32/100\n",
      "\u001b[1m721/721\u001b[0m \u001b[32m━━━━━━━━━━━━━━━━━━━━\u001b[0m\u001b[37m\u001b[0m \u001b[1m5s\u001b[0m 7ms/step - loss: 0.6669 - rmse: 0.6668 - val_loss: 0.1153 - val_rmse: 0.1156\n",
      "Epoch 33/100\n",
      "\u001b[1m721/721\u001b[0m \u001b[32m━━━━━━━━━━━━━━━━━━━━\u001b[0m\u001b[37m\u001b[0m \u001b[1m5s\u001b[0m 7ms/step - loss: 0.6334 - rmse: 0.6332 - val_loss: 0.1818 - val_rmse: 0.1820\n",
      "Epoch 34/100\n",
      "\u001b[1m721/721\u001b[0m \u001b[32m━━━━━━━━━━━━━━━━━━━━\u001b[0m\u001b[37m\u001b[0m \u001b[1m6s\u001b[0m 8ms/step - loss: 0.5933 - rmse: 0.5934 - val_loss: 0.1244 - val_rmse: 0.1247\n",
      "Epoch 35/100\n",
      "\u001b[1m721/721\u001b[0m \u001b[32m━━━━━━━━━━━━━━━━━━━━\u001b[0m\u001b[37m\u001b[0m \u001b[1m6s\u001b[0m 8ms/step - loss: 0.5515 - rmse: 0.5510 - val_loss: 0.1136 - val_rmse: 0.1141\n",
      "Epoch 36/100\n",
      "\u001b[1m721/721\u001b[0m \u001b[32m━━━━━━━━━━━━━━━━━━━━\u001b[0m\u001b[37m\u001b[0m \u001b[1m5s\u001b[0m 7ms/step - loss: 0.5079 - rmse: 0.5082 - val_loss: 0.0678 - val_rmse: 0.0667\n",
      "Epoch 37/100\n",
      "\u001b[1m721/721\u001b[0m \u001b[32m━━━━━━━━━━━━━━━━━━━━\u001b[0m\u001b[37m\u001b[0m \u001b[1m5s\u001b[0m 7ms/step - loss: 0.4754 - rmse: 0.4754 - val_loss: 0.3280 - val_rmse: 0.3280\n",
      "Epoch 38/100\n",
      "\u001b[1m721/721\u001b[0m \u001b[32m━━━━━━━━━━━━━━━━━━━━\u001b[0m\u001b[37m\u001b[0m \u001b[1m5s\u001b[0m 7ms/step - loss: 0.4336 - rmse: 0.4337 - val_loss: 0.0671 - val_rmse: 0.0678\n",
      "Epoch 39/100\n",
      "\u001b[1m721/721\u001b[0m \u001b[32m━━━━━━━━━━━━━━━━━━━━\u001b[0m\u001b[37m\u001b[0m \u001b[1m5s\u001b[0m 7ms/step - loss: 0.3910 - rmse: 0.3908 - val_loss: 0.0576 - val_rmse: 0.0580\n",
      "Epoch 40/100\n",
      "\u001b[1m721/721\u001b[0m \u001b[32m━━━━━━━━━━━━━━━━━━━━\u001b[0m\u001b[37m\u001b[0m \u001b[1m5s\u001b[0m 7ms/step - loss: 0.3509 - rmse: 0.3513 - val_loss: 0.0599 - val_rmse: 0.0607\n",
      "Epoch 41/100\n",
      "\u001b[1m721/721\u001b[0m \u001b[32m━━━━━━━━━━━━━━━━━━━━\u001b[0m\u001b[37m\u001b[0m \u001b[1m5s\u001b[0m 8ms/step - loss: 0.3143 - rmse: 0.3143 - val_loss: 0.0700 - val_rmse: 0.0706\n",
      "Epoch 42/100\n",
      "\u001b[1m721/721\u001b[0m \u001b[32m━━━━━━━━━━━━━━━━━━━━\u001b[0m\u001b[37m\u001b[0m \u001b[1m5s\u001b[0m 7ms/step - loss: 0.2707 - rmse: 0.2711 - val_loss: 0.0300 - val_rmse: 0.0320\n",
      "Epoch 43/100\n",
      "\u001b[1m721/721\u001b[0m \u001b[32m━━━━━━━━━━━━━━━━━━━━\u001b[0m\u001b[37m\u001b[0m \u001b[1m5s\u001b[0m 7ms/step - loss: 0.2336 - rmse: 0.2340 - val_loss: 0.1153 - val_rmse: 0.1158\n",
      "Epoch 44/100\n",
      "\u001b[1m721/721\u001b[0m \u001b[32m━━━━━━━━━━━━━━━━━━━━\u001b[0m\u001b[37m\u001b[0m \u001b[1m5s\u001b[0m 7ms/step - loss: 0.1959 - rmse: 0.1964 - val_loss: 0.0510 - val_rmse: 0.0529\n",
      "Epoch 45/100\n",
      "\u001b[1m721/721\u001b[0m \u001b[32m━━━━━━━━━━━━━━━━━━━━\u001b[0m\u001b[37m\u001b[0m \u001b[1m5s\u001b[0m 7ms/step - loss: 0.1586 - rmse: 0.1594 - val_loss: 0.0297 - val_rmse: 0.0320\n",
      "Epoch 46/100\n",
      "\u001b[1m721/721\u001b[0m \u001b[32m━━━━━━━━━━━━━━━━━━━━\u001b[0m\u001b[37m\u001b[0m \u001b[1m5s\u001b[0m 7ms/step - loss: 0.1195 - rmse: 0.1205 - val_loss: 0.0332 - val_rmse: 0.0355\n",
      "Epoch 47/100\n",
      "\u001b[1m721/721\u001b[0m \u001b[32m━━━━━━━━━━━━━━━━━━━━\u001b[0m\u001b[37m\u001b[0m \u001b[1m5s\u001b[0m 7ms/step - loss: 0.0856 - rmse: 0.0863 - val_loss: 0.0331 - val_rmse: 0.0356\n",
      "Epoch 48/100\n",
      "\u001b[1m721/721\u001b[0m \u001b[32m━━━━━━━━━━━━━━━━━━━━\u001b[0m\u001b[37m\u001b[0m \u001b[1m5s\u001b[0m 7ms/step - loss: 0.0554 - rmse: 0.0574 - val_loss: 0.0298 - val_rmse: 0.0332\n",
      "Epoch 49/100\n",
      "\u001b[1m721/721\u001b[0m \u001b[32m━━━━━━━━━━━━━━━━━━━━\u001b[0m\u001b[37m\u001b[0m \u001b[1m5s\u001b[0m 7ms/step - loss: 0.0357 - rmse: 0.0386 - val_loss: 0.0288 - val_rmse: 0.0323\n",
      "Epoch 50/100\n",
      "\u001b[1m721/721\u001b[0m \u001b[32m━━━━━━━━━━━━━━━━━━━━\u001b[0m\u001b[37m\u001b[0m \u001b[1m5s\u001b[0m 7ms/step - loss: 0.0300 - rmse: 0.0333 - val_loss: 0.0288 - val_rmse: 0.0325\n",
      "Epoch 51/100\n",
      "\u001b[1m721/721\u001b[0m \u001b[32m━━━━━━━━━━━━━━━━━━━━\u001b[0m\u001b[37m\u001b[0m \u001b[1m5s\u001b[0m 7ms/step - loss: 0.0294 - rmse: 0.0334 - val_loss: 0.0281 - val_rmse: 0.0321\n",
      "Epoch 52/100\n",
      "\u001b[1m721/721\u001b[0m \u001b[32m━━━━━━━━━━━━━━━━━━━━\u001b[0m\u001b[37m\u001b[0m \u001b[1m5s\u001b[0m 7ms/step - loss: 0.0291 - rmse: 0.0334 - val_loss: 0.0283 - val_rmse: 0.0340\n",
      "Epoch 53/100\n",
      "\u001b[1m721/721\u001b[0m \u001b[32m━━━━━━━━━━━━━━━━━━━━\u001b[0m\u001b[37m\u001b[0m \u001b[1m5s\u001b[0m 8ms/step - loss: 0.0290 - rmse: 0.0336 - val_loss: 0.0245 - val_rmse: 0.0335\n",
      "Epoch 54/100\n",
      "\u001b[1m721/721\u001b[0m \u001b[32m━━━━━━━━━━━━━━━━━━━━\u001b[0m\u001b[37m\u001b[0m \u001b[1m5s\u001b[0m 7ms/step - loss: 0.0291 - rmse: 0.0341 - val_loss: 0.0248 - val_rmse: 0.0336\n",
      "Epoch 55/100\n",
      "\u001b[1m721/721\u001b[0m \u001b[32m━━━━━━━━━━━━━━━━━━━━\u001b[0m\u001b[37m\u001b[0m \u001b[1m5s\u001b[0m 7ms/step - loss: 0.0258 - rmse: 0.0368 - val_loss: 0.0223 - val_rmse: 0.0347\n",
      "Epoch 56/100\n",
      "\u001b[1m721/721\u001b[0m \u001b[32m━━━━━━━━━━━━━━━━━━━━\u001b[0m\u001b[37m\u001b[0m \u001b[1m5s\u001b[0m 7ms/step - loss: 0.0241 - rmse: 0.0370 - val_loss: 0.0254 - val_rmse: 0.0335\n",
      "Epoch 57/100\n",
      "\u001b[1m721/721\u001b[0m \u001b[32m━━━━━━━━━━━━━━━━━━━━\u001b[0m\u001b[37m\u001b[0m \u001b[1m5s\u001b[0m 7ms/step - loss: 0.0239 - rmse: 0.0372 - val_loss: 0.0214 - val_rmse: 0.0390\n",
      "Epoch 58/100\n",
      "\u001b[1m721/721\u001b[0m \u001b[32m━━━━━━━━━━━━━━━━━━━━\u001b[0m\u001b[37m\u001b[0m \u001b[1m5s\u001b[0m 7ms/step - loss: 0.0236 - rmse: 0.0375 - val_loss: 0.0215 - val_rmse: 0.0355\n",
      "Epoch 59/100\n",
      "\u001b[1m721/721\u001b[0m \u001b[32m━━━━━━━━━━━━━━━━━━━━\u001b[0m\u001b[37m\u001b[0m \u001b[1m5s\u001b[0m 7ms/step - loss: 0.0238 - rmse: 0.0377 - val_loss: 0.0216 - val_rmse: 0.0347\n",
      "Epoch 60/100\n",
      "\u001b[1m721/721\u001b[0m \u001b[32m━━━━━━━━━━━━━━━━━━━━\u001b[0m\u001b[37m\u001b[0m \u001b[1m5s\u001b[0m 7ms/step - loss: 0.0231 - rmse: 0.0377 - val_loss: 0.0202 - val_rmse: 0.0360\n",
      "Epoch 61/100\n",
      "\u001b[1m721/721\u001b[0m \u001b[32m━━━━━━━━━━━━━━━━━━━━\u001b[0m\u001b[37m\u001b[0m \u001b[1m5s\u001b[0m 7ms/step - loss: 0.0229 - rmse: 0.0377 - val_loss: 0.0208 - val_rmse: 0.0352\n",
      "Epoch 62/100\n",
      "\u001b[1m721/721\u001b[0m \u001b[32m━━━━━━━━━━━━━━━━━━━━\u001b[0m\u001b[37m\u001b[0m \u001b[1m5s\u001b[0m 7ms/step - loss: 0.0229 - rmse: 0.0377 - val_loss: 0.0196 - val_rmse: 0.0358\n",
      "Epoch 63/100\n",
      "\u001b[1m721/721\u001b[0m \u001b[32m━━━━━━━━━━━━━━━━━━━━\u001b[0m\u001b[37m\u001b[0m \u001b[1m5s\u001b[0m 7ms/step - loss: 0.0229 - rmse: 0.0379 - val_loss: 0.0193 - val_rmse: 0.0369\n",
      "Epoch 64/100\n",
      "\u001b[1m721/721\u001b[0m \u001b[32m━━━━━━━━━━━━━━━━━━━━\u001b[0m\u001b[37m\u001b[0m \u001b[1m5s\u001b[0m 7ms/step - loss: 0.0227 - rmse: 0.0378 - val_loss: 0.0196 - val_rmse: 0.0359\n",
      "Epoch 65/100\n",
      "\u001b[1m721/721\u001b[0m \u001b[32m━━━━━━━━━━━━━━━━━━━━\u001b[0m\u001b[37m\u001b[0m \u001b[1m5s\u001b[0m 7ms/step - loss: 0.0224 - rmse: 0.0379 - val_loss: 0.0191 - val_rmse: 0.0372\n",
      "Epoch 66/100\n",
      "\u001b[1m721/721\u001b[0m \u001b[32m━━━━━━━━━━━━━━━━━━━━\u001b[0m\u001b[37m\u001b[0m \u001b[1m5s\u001b[0m 7ms/step - loss: 0.0226 - rmse: 0.0381 - val_loss: 0.0199 - val_rmse: 0.0358\n",
      "Epoch 67/100\n",
      "\u001b[1m721/721\u001b[0m \u001b[32m━━━━━━━━━━━━━━━━━━━━\u001b[0m\u001b[37m\u001b[0m \u001b[1m5s\u001b[0m 7ms/step - loss: 0.0224 - rmse: 0.0377 - val_loss: 0.0197 - val_rmse: 0.0355\n",
      "Epoch 68/100\n",
      "\u001b[1m721/721\u001b[0m \u001b[32m━━━━━━━━━━━━━━━━━━━━\u001b[0m\u001b[37m\u001b[0m \u001b[1m5s\u001b[0m 7ms/step - loss: 0.0226 - rmse: 0.0381 - val_loss: 0.0194 - val_rmse: 0.0361\n",
      "Epoch 69/100\n",
      "\u001b[1m721/721\u001b[0m \u001b[32m━━━━━━━━━━━━━━━━━━━━\u001b[0m\u001b[37m\u001b[0m \u001b[1m5s\u001b[0m 7ms/step - loss: 0.0226 - rmse: 0.0380 - val_loss: 0.0193 - val_rmse: 0.0363\n",
      "Epoch 70/100\n",
      "\u001b[1m721/721\u001b[0m \u001b[32m━━━━━━━━━━━━━━━━━━━━\u001b[0m\u001b[37m\u001b[0m \u001b[1m5s\u001b[0m 7ms/step - loss: 0.0224 - rmse: 0.0380 - val_loss: 0.0194 - val_rmse: 0.0356\n",
      "Epoch 71/100\n",
      "\u001b[1m721/721\u001b[0m \u001b[32m━━━━━━━━━━━━━━━━━━━━\u001b[0m\u001b[37m\u001b[0m \u001b[1m5s\u001b[0m 7ms/step - loss: 0.0222 - rmse: 0.0381 - val_loss: 0.0216 - val_rmse: 0.0345\n",
      "Epoch 72/100\n",
      "\u001b[1m721/721\u001b[0m \u001b[32m━━━━━━━━━━━━━━━━━━━━\u001b[0m\u001b[37m\u001b[0m \u001b[1m5s\u001b[0m 7ms/step - loss: 0.0223 - rmse: 0.0381 - val_loss: 0.0193 - val_rmse: 0.0361\n",
      "Epoch 73/100\n",
      "\u001b[1m721/721\u001b[0m \u001b[32m━━━━━━━━━━━━━━━━━━━━\u001b[0m\u001b[37m\u001b[0m \u001b[1m6s\u001b[0m 8ms/step - loss: 0.0219 - rmse: 0.0380 - val_loss: 0.0201 - val_rmse: 0.0351\n",
      "Epoch 74/100\n",
      "\u001b[1m721/721\u001b[0m \u001b[32m━━━━━━━━━━━━━━━━━━━━\u001b[0m\u001b[37m\u001b[0m \u001b[1m6s\u001b[0m 8ms/step - loss: 0.0218 - rmse: 0.0380 - val_loss: 0.0194 - val_rmse: 0.0360\n",
      "Epoch 75/100\n",
      "\u001b[1m721/721\u001b[0m \u001b[32m━━━━━━━━━━━━━━━━━━━━\u001b[0m\u001b[37m\u001b[0m \u001b[1m5s\u001b[0m 7ms/step - loss: 0.0218 - rmse: 0.0380 - val_loss: 0.0191 - val_rmse: 0.0362\n",
      "Epoch 76/100\n",
      "\u001b[1m721/721\u001b[0m \u001b[32m━━━━━━━━━━━━━━━━━━━━\u001b[0m\u001b[37m\u001b[0m \u001b[1m6s\u001b[0m 8ms/step - loss: 0.0218 - rmse: 0.0381 - val_loss: 0.0201 - val_rmse: 0.0349\n",
      "Epoch 77/100\n",
      "\u001b[1m721/721\u001b[0m \u001b[32m━━━━━━━━━━━━━━━━━━━━\u001b[0m\u001b[37m\u001b[0m \u001b[1m6s\u001b[0m 8ms/step - loss: 0.0220 - rmse: 0.0383 - val_loss: 0.0227 - val_rmse: 0.0340\n",
      "Epoch 78/100\n",
      "\u001b[1m721/721\u001b[0m \u001b[32m━━━━━━━━━━━━━━━━━━━━\u001b[0m\u001b[37m\u001b[0m \u001b[1m6s\u001b[0m 8ms/step - loss: 0.0222 - rmse: 0.0382 - val_loss: 0.0187 - val_rmse: 0.0363\n",
      "Epoch 79/100\n",
      "\u001b[1m721/721\u001b[0m \u001b[32m━━━━━━━━━━━━━━━━━━━━\u001b[0m\u001b[37m\u001b[0m \u001b[1m6s\u001b[0m 8ms/step - loss: 0.0221 - rmse: 0.0384 - val_loss: 0.0183 - val_rmse: 0.0366\n",
      "Epoch 80/100\n",
      "\u001b[1m721/721\u001b[0m \u001b[32m━━━━━━━━━━━━━━━━━━━━\u001b[0m\u001b[37m\u001b[0m \u001b[1m5s\u001b[0m 7ms/step - loss: 0.0218 - rmse: 0.0383 - val_loss: 0.0197 - val_rmse: 0.0348\n",
      "Epoch 81/100\n",
      "\u001b[1m721/721\u001b[0m \u001b[32m━━━━━━━━━━━━━━━━━━━━\u001b[0m\u001b[37m\u001b[0m \u001b[1m5s\u001b[0m 7ms/step - loss: 0.0219 - rmse: 0.0385 - val_loss: 0.0194 - val_rmse: 0.0354\n",
      "Epoch 82/100\n",
      "\u001b[1m721/721\u001b[0m \u001b[32m━━━━━━━━━━━━━━━━━━━━\u001b[0m\u001b[37m\u001b[0m \u001b[1m5s\u001b[0m 7ms/step - loss: 0.0214 - rmse: 0.0384 - val_loss: 0.0184 - val_rmse: 0.0365\n",
      "Epoch 83/100\n",
      "\u001b[1m721/721\u001b[0m \u001b[32m━━━━━━━━━━━━━━━━━━━━\u001b[0m\u001b[37m\u001b[0m \u001b[1m6s\u001b[0m 8ms/step - loss: 0.0218 - rmse: 0.0379 - val_loss: 0.0181 - val_rmse: 0.0370\n",
      "Epoch 84/100\n",
      "\u001b[1m721/721\u001b[0m \u001b[32m━━━━━━━━━━━━━━━━━━━━\u001b[0m\u001b[37m\u001b[0m \u001b[1m6s\u001b[0m 8ms/step - loss: 0.0220 - rmse: 0.0383 - val_loss: 0.0181 - val_rmse: 0.0365\n",
      "Epoch 85/100\n",
      "\u001b[1m721/721\u001b[0m \u001b[32m━━━━━━━━━━━━━━━━━━━━\u001b[0m\u001b[37m\u001b[0m \u001b[1m6s\u001b[0m 8ms/step - loss: 0.0215 - rmse: 0.0382 - val_loss: 0.0202 - val_rmse: 0.0350\n",
      "Epoch 86/100\n",
      "\u001b[1m721/721\u001b[0m \u001b[32m━━━━━━━━━━━━━━━━━━━━\u001b[0m\u001b[37m\u001b[0m \u001b[1m5s\u001b[0m 7ms/step - loss: 0.0219 - rmse: 0.0384 - val_loss: 0.0201 - val_rmse: 0.0347\n",
      "Epoch 87/100\n",
      "\u001b[1m721/721\u001b[0m \u001b[32m━━━━━━━━━━━━━━━━━━━━\u001b[0m\u001b[37m\u001b[0m \u001b[1m5s\u001b[0m 7ms/step - loss: 0.0219 - rmse: 0.0382 - val_loss: 0.0198 - val_rmse: 0.0352\n",
      "Epoch 87: early stopping\n"
     ]
    }
   ],
   "source": [
    "start_time = time.time()\n",
    "history = model.fit(X_train, y_train, epochs=100, batch_size=32, validation_split=0.2, verbose=1, callbacks=[tensorboard, early_stopping])"
   ]
  },
  {
   "cell_type": "code",
   "execution_count": 25,
   "metadata": {},
   "outputs": [
    {
     "name": "stdout",
     "output_type": "stream",
     "text": [
      "\u001b[1m226/226\u001b[0m \u001b[32m━━━━━━━━━━━━━━━━━━━━\u001b[0m\u001b[37m\u001b[0m \u001b[1m1s\u001b[0m 2ms/step\n"
     ]
    }
   ],
   "source": [
    "# Predict\n",
    "y_pred = model.predict(X_test)\n",
    "\n",
    "# end estimation time after predict\n",
    "end_time = time.time()\n",
    "\n",
    "estimation_time = end_time - start_time"
   ]
  },
  {
   "cell_type": "code",
   "execution_count": 26,
   "metadata": {},
   "outputs": [],
   "source": [
    "# Reverse the log transformation\n",
    "original_scale_pred = np.expm1(y_pred)\n",
    "original_scale_y_test = np.expm1(y_test)\n",
    "original_scale_y_train = np.expm1(y_train)"
   ]
  },
  {
   "cell_type": "code",
   "execution_count": 27,
   "metadata": {},
   "outputs": [
    {
     "data": {
      "text/plain": [
       "array([[3892912.2],\n",
       "       [3836826. ],\n",
       "       [3861541.8],\n",
       "       ...,\n",
       "       [3952165.8],\n",
       "       [3846171.5],\n",
       "       [3928986.2]], dtype=float32)"
      ]
     },
     "execution_count": 27,
     "metadata": {},
     "output_type": "execute_result"
    }
   ],
   "source": [
    "original_scale_pred"
   ]
  },
  {
   "cell_type": "code",
   "execution_count": 28,
   "metadata": {},
   "outputs": [],
   "source": [
    "# # Calculate RMSE\n",
    "rmse = np.sqrt(mean_squared_error(original_scale_y_test, original_scale_pred))\n",
    "# print(rmse)\n",
    "\n",
    "# print(f'Estimation Time: {estimation_time} seconds')\n",
    "# print(f'RMSE: {rmse}')\n",
    "\n",
    "# Define a threshold for classification (e.g., median of shares)\n",
    "threshold = np.median(original_scale_y_test)\n",
    "\n",
    "# Convert predictions and actual values to binary classification\n",
    "y_test_binary = (original_scale_y_test > threshold).astype(int)\n",
    "y_pred_binary = (original_scale_pred > threshold).astype(int)"
   ]
  },
  {
   "cell_type": "code",
   "execution_count": 29,
   "metadata": {},
   "outputs": [
    {
     "data": {
      "image/png": "[encoded data removed]",
      "text/plain": [
       "<Figure size 640x480 with 2 Axes>"
      ]
     },
     "metadata": {},
     "output_type": "display_data"
    }
   ],
   "source": [
    "# Calculate confusion matrix\n",
    "cf_matrix = confusion_matrix(y_test_binary, y_pred_binary)\n",
    "\n",
    "# Calculate false positive rate and false negative rate\n",
    "tn, fp, fn, tp = cf_matrix.ravel()\n",
    "cnn_false_positive_rate = fp / (fp + tn)\n",
    "cnn_false_negative_rate = fn / (fn + tp)\n",
    "\n",
    "\n",
    "# Store the results\n",
    "cnn_results.append({\n",
    "    'model': 'CNN',\n",
    "    'estimation_time': estimation_time,\n",
    "    'rmse': rmse,\n",
    "    'false_positive_rate': cnn_false_positive_rate,\n",
    "    'false_negative_rate': cnn_false_negative_rate\n",
    "})\n",
    "\n",
    "\n",
    "labels = ['True Negative', 'False Positive', 'False Negative', 'True Positive']\n",
    "categories = ['Low', 'High']\n",
    "make_confusion_matrix(cf_matrix, \n",
    "                        group_names=labels, \n",
    "                        categories=categories, \n",
    "                        cmap='Blues', \n",
    "                        title='Confusion Matrix CNN')\n",
    "\n",
    "plt.show()"
   ]
  },
  {
   "cell_type": "code",
   "execution_count": 30,
   "metadata": {},
   "outputs": [
    {
     "data": {
      "text/html": [
       "<div>\n",
       "<style scoped>\n",
       "    .dataframe tbody tr th:only-of-type {\n",
       "        vertical-align: middle;\n",
       "    }\n",
       "\n",
       "    .dataframe tbody tr th {\n",
       "        vertical-align: top;\n",
       "    }\n",
       "\n",
       "    .dataframe thead th {\n",
       "        text-align: right;\n",
       "    }\n",
       "</style>\n",
       "<table border=\"1\" class=\"dataframe\">\n",
       "  <thead>\n",
       "    <tr style=\"text-align: right;\">\n",
       "      <th></th>\n",
       "      <th>model</th>\n",
       "      <th>estimation_time</th>\n",
       "      <th>rmse</th>\n",
       "      <th>false_positive_rate</th>\n",
       "      <th>false_negative_rate</th>\n",
       "    </tr>\n",
       "  </thead>\n",
       "  <tbody>\n",
       "    <tr>\n",
       "      <th>0</th>\n",
       "      <td>CNN</td>\n",
       "      <td>461.304107</td>\n",
       "      <td>79069.474427</td>\n",
       "      <td>0.124688</td>\n",
       "      <td>0.165278</td>\n",
       "    </tr>\n",
       "  </tbody>\n",
       "</table>\n",
       "</div>"
      ],
      "text/plain": [
       "  model  estimation_time          rmse  false_positive_rate  \\\n",
       "0   CNN       461.304107  79069.474427             0.124688   \n",
       "\n",
       "   false_negative_rate  \n",
       "0             0.165278  "
      ]
     },
     "execution_count": 30,
     "metadata": {},
     "output_type": "execute_result"
    }
   ],
   "source": [
    "# Display the results\n",
    "cnn_results_df = pd.DataFrame(cnn_results)\n",
    "cnn_results_df"
   ]
  },
  {
   "cell_type": "code",
   "execution_count": 31,
   "metadata": {},
   "outputs": [],
   "source": [
    "cnn_results_df.to_csv('metrics.csv', mode='a', index=False, header=False)"
   ]
  },
  {
   "cell_type": "code",
   "execution_count": 32,
   "metadata": {},
   "outputs": [
    {
     "data": {
      "text/html": [
       "<pre style=\"white-space:pre;overflow-x:auto;line-height:normal;font-family:Menlo,'DejaVu Sans Mono',consolas,'Courier New',monospace\"><span style=\"font-weight: bold\">Model: \"sequential_1\"</span>\n",
       "</pre>\n"
      ],
      "text/plain": [
       "\u001b[1mModel: \"sequential_1\"\u001b[0m\n"
      ]
     },
     "metadata": {},
     "output_type": "display_data"
    },
    {
     "data": {
      "text/html": [
       "<pre style=\"white-space:pre;overflow-x:auto;line-height:normal;font-family:Menlo,'DejaVu Sans Mono',consolas,'Courier New',monospace\">┏━━━━━━━━━━━━━━━━━━━━━━━━━━━━━━━━━┳━━━━━━━━━━━━━━━━━━━━━━━━┳━━━━━━━━━━━━━━━┓\n",
       "┃<span style=\"font-weight: bold\"> Layer (type)                    </span>┃<span style=\"font-weight: bold\"> Output Shape           </span>┃<span style=\"font-weight: bold\">       Param # </span>┃\n",
       "┡━━━━━━━━━━━━━━━━━━━━━━━━━━━━━━━━━╇━━━━━━━━━━━━━━━━━━━━━━━━╇━━━━━━━━━━━━━━━┩\n",
       "│ conv1d_2 (<span style=\"color: #0087ff; text-decoration-color: #0087ff\">Conv1D</span>)               │ (<span style=\"color: #00d7ff; text-decoration-color: #00d7ff\">None</span>, <span style=\"color: #00af00; text-decoration-color: #00af00\">97</span>, <span style=\"color: #00af00; text-decoration-color: #00af00\">64</span>)         │           <span style=\"color: #00af00; text-decoration-color: #00af00\">192</span> │\n",
       "├─────────────────────────────────┼────────────────────────┼───────────────┤\n",
       "│ max_pooling1d_2 (<span style=\"color: #0087ff; text-decoration-color: #0087ff\">MaxPooling1D</span>)  │ (<span style=\"color: #00d7ff; text-decoration-color: #00d7ff\">None</span>, <span style=\"color: #00af00; text-decoration-color: #00af00\">48</span>, <span style=\"color: #00af00; text-decoration-color: #00af00\">64</span>)         │             <span style=\"color: #00af00; text-decoration-color: #00af00\">0</span> │\n",
       "├─────────────────────────────────┼────────────────────────┼───────────────┤\n",
       "│ dropout_3 (<span style=\"color: #0087ff; text-decoration-color: #0087ff\">Dropout</span>)             │ (<span style=\"color: #00d7ff; text-decoration-color: #00d7ff\">None</span>, <span style=\"color: #00af00; text-decoration-color: #00af00\">48</span>, <span style=\"color: #00af00; text-decoration-color: #00af00\">64</span>)         │             <span style=\"color: #00af00; text-decoration-color: #00af00\">0</span> │\n",
       "├─────────────────────────────────┼────────────────────────┼───────────────┤\n",
       "│ conv1d_3 (<span style=\"color: #0087ff; text-decoration-color: #0087ff\">Conv1D</span>)               │ (<span style=\"color: #00d7ff; text-decoration-color: #00d7ff\">None</span>, <span style=\"color: #00af00; text-decoration-color: #00af00\">47</span>, <span style=\"color: #00af00; text-decoration-color: #00af00\">32</span>)         │         <span style=\"color: #00af00; text-decoration-color: #00af00\">4,128</span> │\n",
       "├─────────────────────────────────┼────────────────────────┼───────────────┤\n",
       "│ max_pooling1d_3 (<span style=\"color: #0087ff; text-decoration-color: #0087ff\">MaxPooling1D</span>)  │ (<span style=\"color: #00d7ff; text-decoration-color: #00d7ff\">None</span>, <span style=\"color: #00af00; text-decoration-color: #00af00\">23</span>, <span style=\"color: #00af00; text-decoration-color: #00af00\">32</span>)         │             <span style=\"color: #00af00; text-decoration-color: #00af00\">0</span> │\n",
       "├─────────────────────────────────┼────────────────────────┼───────────────┤\n",
       "│ dropout_4 (<span style=\"color: #0087ff; text-decoration-color: #0087ff\">Dropout</span>)             │ (<span style=\"color: #00d7ff; text-decoration-color: #00d7ff\">None</span>, <span style=\"color: #00af00; text-decoration-color: #00af00\">23</span>, <span style=\"color: #00af00; text-decoration-color: #00af00\">32</span>)         │             <span style=\"color: #00af00; text-decoration-color: #00af00\">0</span> │\n",
       "├─────────────────────────────────┼────────────────────────┼───────────────┤\n",
       "│ flatten_1 (<span style=\"color: #0087ff; text-decoration-color: #0087ff\">Flatten</span>)             │ (<span style=\"color: #00d7ff; text-decoration-color: #00d7ff\">None</span>, <span style=\"color: #00af00; text-decoration-color: #00af00\">736</span>)            │             <span style=\"color: #00af00; text-decoration-color: #00af00\">0</span> │\n",
       "├─────────────────────────────────┼────────────────────────┼───────────────┤\n",
       "│ dense_2 (<span style=\"color: #0087ff; text-decoration-color: #0087ff\">Dense</span>)                 │ (<span style=\"color: #00d7ff; text-decoration-color: #00d7ff\">None</span>, <span style=\"color: #00af00; text-decoration-color: #00af00\">128</span>)            │        <span style=\"color: #00af00; text-decoration-color: #00af00\">94,336</span> │\n",
       "├─────────────────────────────────┼────────────────────────┼───────────────┤\n",
       "│ dropout_5 (<span style=\"color: #0087ff; text-decoration-color: #0087ff\">Dropout</span>)             │ (<span style=\"color: #00d7ff; text-decoration-color: #00d7ff\">None</span>, <span style=\"color: #00af00; text-decoration-color: #00af00\">128</span>)            │             <span style=\"color: #00af00; text-decoration-color: #00af00\">0</span> │\n",
       "├─────────────────────────────────┼────────────────────────┼───────────────┤\n",
       "│ dense_3 (<span style=\"color: #0087ff; text-decoration-color: #0087ff\">Dense</span>)                 │ (<span style=\"color: #00d7ff; text-decoration-color: #00d7ff\">None</span>, <span style=\"color: #00af00; text-decoration-color: #00af00\">1</span>)              │           <span style=\"color: #00af00; text-decoration-color: #00af00\">129</span> │\n",
       "└─────────────────────────────────┴────────────────────────┴───────────────┘\n",
       "</pre>\n"
      ],
      "text/plain": [
       "┏━━━━━━━━━━━━━━━━━━━━━━━━━━━━━━━━━┳━━━━━━━━━━━━━━━━━━━━━━━━┳━━━━━━━━━━━━━━━┓\n",
       "┃\u001b[1m \u001b[0m\u001b[1mLayer (type)                   \u001b[0m\u001b[1m \u001b[0m┃\u001b[1m \u001b[0m\u001b[1mOutput Shape          \u001b[0m\u001b[1m \u001b[0m┃\u001b[1m \u001b[0m\u001b[1m      Param #\u001b[0m\u001b[1m \u001b[0m┃\n",
       "┡━━━━━━━━━━━━━━━━━━━━━━━━━━━━━━━━━╇━━━━━━━━━━━━━━━━━━━━━━━━╇━━━━━━━━━━━━━━━┩\n",
       "│ conv1d_2 (\u001b[38;5;33mConv1D\u001b[0m)               │ (\u001b[38;5;45mNone\u001b[0m, \u001b[38;5;34m97\u001b[0m, \u001b[38;5;34m64\u001b[0m)         │           \u001b[38;5;34m192\u001b[0m │\n",
       "├─────────────────────────────────┼────────────────────────┼───────────────┤\n",
       "│ max_pooling1d_2 (\u001b[38;5;33mMaxPooling1D\u001b[0m)  │ (\u001b[38;5;45mNone\u001b[0m, \u001b[38;5;34m48\u001b[0m, \u001b[38;5;34m64\u001b[0m)         │             \u001b[38;5;34m0\u001b[0m │\n",
       "├─────────────────────────────────┼────────────────────────┼───────────────┤\n",
       "│ dropout_3 (\u001b[38;5;33mDropout\u001b[0m)             │ (\u001b[38;5;45mNone\u001b[0m, \u001b[38;5;34m48\u001b[0m, \u001b[38;5;34m64\u001b[0m)         │             \u001b[38;5;34m0\u001b[0m │\n",
       "├─────────────────────────────────┼────────────────────────┼───────────────┤\n",
       "│ conv1d_3 (\u001b[38;5;33mConv1D\u001b[0m)               │ (\u001b[38;5;45mNone\u001b[0m, \u001b[38;5;34m47\u001b[0m, \u001b[38;5;34m32\u001b[0m)         │         \u001b[38;5;34m4,128\u001b[0m │\n",
       "├─────────────────────────────────┼────────────────────────┼───────────────┤\n",
       "│ max_pooling1d_3 (\u001b[38;5;33mMaxPooling1D\u001b[0m)  │ (\u001b[38;5;45mNone\u001b[0m, \u001b[38;5;34m23\u001b[0m, \u001b[38;5;34m32\u001b[0m)         │             \u001b[38;5;34m0\u001b[0m │\n",
       "├─────────────────────────────────┼────────────────────────┼───────────────┤\n",
       "│ dropout_4 (\u001b[38;5;33mDropout\u001b[0m)             │ (\u001b[38;5;45mNone\u001b[0m, \u001b[38;5;34m23\u001b[0m, \u001b[38;5;34m32\u001b[0m)         │             \u001b[38;5;34m0\u001b[0m │\n",
       "├─────────────────────────────────┼────────────────────────┼───────────────┤\n",
       "│ flatten_1 (\u001b[38;5;33mFlatten\u001b[0m)             │ (\u001b[38;5;45mNone\u001b[0m, \u001b[38;5;34m736\u001b[0m)            │             \u001b[38;5;34m0\u001b[0m │\n",
       "├─────────────────────────────────┼────────────────────────┼───────────────┤\n",
       "│ dense_2 (\u001b[38;5;33mDense\u001b[0m)                 │ (\u001b[38;5;45mNone\u001b[0m, \u001b[38;5;34m128\u001b[0m)            │        \u001b[38;5;34m94,336\u001b[0m │\n",
       "├─────────────────────────────────┼────────────────────────┼───────────────┤\n",
       "│ dropout_5 (\u001b[38;5;33mDropout\u001b[0m)             │ (\u001b[38;5;45mNone\u001b[0m, \u001b[38;5;34m128\u001b[0m)            │             \u001b[38;5;34m0\u001b[0m │\n",
       "├─────────────────────────────────┼────────────────────────┼───────────────┤\n",
       "│ dense_3 (\u001b[38;5;33mDense\u001b[0m)                 │ (\u001b[38;5;45mNone\u001b[0m, \u001b[38;5;34m1\u001b[0m)              │           \u001b[38;5;34m129\u001b[0m │\n",
       "└─────────────────────────────────┴────────────────────────┴───────────────┘\n"
      ]
     },
     "metadata": {},
     "output_type": "display_data"
    },
    {
     "data": {
      "text/html": [
       "<pre style=\"white-space:pre;overflow-x:auto;line-height:normal;font-family:Menlo,'DejaVu Sans Mono',consolas,'Courier New',monospace\"><span style=\"font-weight: bold\"> Total params: </span><span style=\"color: #00af00; text-decoration-color: #00af00\">296,357</span> (1.13 MB)\n",
       "</pre>\n"
      ],
      "text/plain": [
       "\u001b[1m Total params: \u001b[0m\u001b[38;5;34m296,357\u001b[0m (1.13 MB)\n"
      ]
     },
     "metadata": {},
     "output_type": "display_data"
    },
    {
     "data": {
      "text/html": [
       "<pre style=\"white-space:pre;overflow-x:auto;line-height:normal;font-family:Menlo,'DejaVu Sans Mono',consolas,'Courier New',monospace\"><span style=\"font-weight: bold\"> Trainable params: </span><span style=\"color: #00af00; text-decoration-color: #00af00\">98,785</span> (385.88 KB)\n",
       "</pre>\n"
      ],
      "text/plain": [
       "\u001b[1m Trainable params: \u001b[0m\u001b[38;5;34m98,785\u001b[0m (385.88 KB)\n"
      ]
     },
     "metadata": {},
     "output_type": "display_data"
    },
    {
     "data": {
      "text/html": [
       "<pre style=\"white-space:pre;overflow-x:auto;line-height:normal;font-family:Menlo,'DejaVu Sans Mono',consolas,'Courier New',monospace\"><span style=\"font-weight: bold\"> Non-trainable params: </span><span style=\"color: #00af00; text-decoration-color: #00af00\">0</span> (0.00 B)\n",
       "</pre>\n"
      ],
      "text/plain": [
       "\u001b[1m Non-trainable params: \u001b[0m\u001b[38;5;34m0\u001b[0m (0.00 B)\n"
      ]
     },
     "metadata": {},
     "output_type": "display_data"
    },
    {
     "data": {
      "text/html": [
       "<pre style=\"white-space:pre;overflow-x:auto;line-height:normal;font-family:Menlo,'DejaVu Sans Mono',consolas,'Courier New',monospace\"><span style=\"font-weight: bold\"> Optimizer params: </span><span style=\"color: #00af00; text-decoration-color: #00af00\">197,572</span> (771.77 KB)\n",
       "</pre>\n"
      ],
      "text/plain": [
       "\u001b[1m Optimizer params: \u001b[0m\u001b[38;5;34m197,572\u001b[0m (771.77 KB)\n"
      ]
     },
     "metadata": {},
     "output_type": "display_data"
    }
   ],
   "source": [
    "model.summary()\n"
   ]
  }
 ],
 "metadata": {
  "kernelspec": {
   "display_name": "base",
   "language": "python",
   "name": "python3"
  },
  "language_info": {
   "codemirror_mode": {
    "name": "ipython",
    "version": 3
   },
   "file_extension": ".py",
   "mimetype": "text/x-python",
   "name": "python",
   "nbconvert_exporter": "python",
   "pygments_lexer": "ipython3",
   "version": "3.11.5"
  },
  "orig_nbformat": 4
 },
 "nbformat": 4,
 "nbformat_minor": 2
}
