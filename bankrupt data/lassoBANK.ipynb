{
 "cells": [
  {
   "cell_type": "code",
   "execution_count": 30,
   "metadata": {},
   "outputs": [],
   "source": [
    "import pandas as pd\n",
    "import numpy as np\n",
    "import matplotlib.pyplot as plt\n",
    "import seaborn as sns\n",
    "\n",
    "from sklearn.linear_model import LassoCV\n",
    "import time\n",
    "\n",
    "from sklearn.preprocessing import OneHotEncoder\n",
    "from sklearn.model_selection import train_test_split\n",
    "from sklearn.linear_model import LogisticRegression\n",
    "from sklearn.metrics import accuracy_score, classification_report, confusion_matrix"
   ]
  },
  {
   "cell_type": "code",
   "execution_count": 31,
   "metadata": {},
   "outputs": [],
   "source": [
    "# Define the custom confusion matrix plotting function\n",
    "def make_confusion_matrix(cf,\n",
    "                          group_names=None,\n",
    "                          categories='auto',\n",
    "                          count=True,\n",
    "                          percent=True,\n",
    "                          cbar=True,\n",
    "                          xyticks=True,\n",
    "                          xyplotlabels=True,\n",
    "                          sum_stats=True,\n",
    "                          figsize=None,\n",
    "                          cmap='Blues',\n",
    "                          title=None):\n",
    "    '''\n",
    "    This function will make a pretty plot of an sklearn Confusion Matrix cm using a Seaborn heatmap visualization.\n",
    "    Arguments\n",
    "    '''\n",
    "\n",
    "    # CODE TO GENERATE TEXT INSIDE EACH SQUARE\n",
    "    blanks = ['' for i in range(cf.size)]\n",
    "\n",
    "    if group_names and len(group_names) == cf.size:\n",
    "        group_labels = [\"{}\\n\".format(value) for value in group_names]\n",
    "    else:\n",
    "        group_labels = blanks\n",
    "\n",
    "    if count:\n",
    "        group_counts = [\"{0:0.0f}\\n\".format(value) for value in cf.flatten()]\n",
    "    else:\n",
    "        group_counts = blanks\n",
    "\n",
    "    if percent:\n",
    "        group_percentages = [\"{0:.2%}\".format(value) for value in cf.flatten() / np.sum(cf)]\n",
    "    else:\n",
    "        group_percentages = blanks\n",
    "\n",
    "    box_labels = [f\"{v1}{v2}{v3}\".strip() for v1, v2, v3 in zip(group_labels, group_counts, group_percentages)]\n",
    "    box_labels = np.asarray(box_labels).reshape(cf.shape[0], cf.shape[1])\n",
    "\n",
    "    # CODE TO GENERATE SUMMARY STATISTICS & TEXT FOR SUMMARY STATS\n",
    "    if sum_stats:\n",
    "        # Accuracy is sum of diagonal divided by total observations\n",
    "        accuracy = np.trace(cf) / float(np.sum(cf))\n",
    "\n",
    "    # SET FIGURE PARAMETERS ACCORDING TO OTHER ARGUMENTS\n",
    "    if figsize is None:\n",
    "        # Get default figure size if not set\n",
    "        figsize = plt.rcParams.get('figure.figsize')\n",
    "\n",
    "    if not xyticks:\n",
    "        # Do not show categories if xyticks is False\n",
    "        categories = False\n",
    "\n",
    "    # MAKE THE HEATMAP VISUALIZATION\n",
    "    plt.figure(figsize=figsize)\n",
    "    sns.heatmap(cf, annot=box_labels, fmt=\"\", cmap=cmap, cbar=cbar, xticklabels=categories, yticklabels=categories)\n",
    "\n",
    "    if title:\n",
    "        plt.title(title)"
   ]
  },
  {
   "cell_type": "code",
   "execution_count": 32,
   "metadata": {},
   "outputs": [],
   "source": [
    "# # Function to calculate false positive rate and false negative rate from confusion matrix\n",
    "def calculate_fp_fn_rates(confusion_matrix):\n",
    "    tn, fp, fn, tp = confusion_matrix.ravel()\n",
    "    fpr = fp / (fp + tn)\n",
    "    fnr = fn / (fn + tp)\n",
    "    return fpr, fnr"
   ]
  },
  {
   "cell_type": "code",
   "execution_count": 33,
   "metadata": {},
   "outputs": [
    {
     "data": {
      "text/plain": [
       "(6819, 96)"
      ]
     },
     "execution_count": 33,
     "metadata": {},
     "output_type": "execute_result"
    }
   ],
   "source": [
    "df = pd.read_csv(\"data.csv\")\n",
    "df.shape"
   ]
  },
  {
   "cell_type": "code",
   "execution_count": 34,
   "metadata": {},
   "outputs": [
    {
     "data": {
      "text/html": [
       "<div>\n",
       "<style scoped>\n",
       "    .dataframe tbody tr th:only-of-type {\n",
       "        vertical-align: middle;\n",
       "    }\n",
       "\n",
       "    .dataframe tbody tr th {\n",
       "        vertical-align: top;\n",
       "    }\n",
       "\n",
       "    .dataframe thead th {\n",
       "        text-align: right;\n",
       "    }\n",
       "</style>\n",
       "<table border=\"1\" class=\"dataframe\">\n",
       "  <thead>\n",
       "    <tr style=\"text-align: right;\">\n",
       "      <th></th>\n",
       "      <th>Bankrupt?</th>\n",
       "      <th>ROA(C) before interest and depreciation before interest</th>\n",
       "      <th>ROA(A) before interest and % after tax</th>\n",
       "      <th>ROA(B) before interest and depreciation after tax</th>\n",
       "      <th>Operating Gross Margin</th>\n",
       "      <th>Realized Sales Gross Margin</th>\n",
       "      <th>Operating Profit Rate</th>\n",
       "      <th>Pre-tax net Interest Rate</th>\n",
       "      <th>After-tax net Interest Rate</th>\n",
       "      <th>Non-industry income and expenditure/revenue</th>\n",
       "      <th>...</th>\n",
       "      <th>Net Income to Total Assets</th>\n",
       "      <th>Total assets to GNP price</th>\n",
       "      <th>No-credit Interval</th>\n",
       "      <th>Gross Profit to Sales</th>\n",
       "      <th>Net Income to Stockholder's Equity</th>\n",
       "      <th>Liability to Equity</th>\n",
       "      <th>Degree of Financial Leverage (DFL)</th>\n",
       "      <th>Interest Coverage Ratio (Interest expense to EBIT)</th>\n",
       "      <th>Net Income Flag</th>\n",
       "      <th>Equity to Liability</th>\n",
       "    </tr>\n",
       "  </thead>\n",
       "  <tbody>\n",
       "    <tr>\n",
       "      <th>0</th>\n",
       "      <td>1</td>\n",
       "      <td>0.370594</td>\n",
       "      <td>0.424389</td>\n",
       "      <td>0.405750</td>\n",
       "      <td>0.601457</td>\n",
       "      <td>0.601457</td>\n",
       "      <td>0.998969</td>\n",
       "      <td>0.796887</td>\n",
       "      <td>0.808809</td>\n",
       "      <td>0.302646</td>\n",
       "      <td>...</td>\n",
       "      <td>0.716845</td>\n",
       "      <td>0.009219</td>\n",
       "      <td>0.622879</td>\n",
       "      <td>0.601453</td>\n",
       "      <td>0.827890</td>\n",
       "      <td>0.290202</td>\n",
       "      <td>0.026601</td>\n",
       "      <td>0.564050</td>\n",
       "      <td>1</td>\n",
       "      <td>0.016469</td>\n",
       "    </tr>\n",
       "    <tr>\n",
       "      <th>1</th>\n",
       "      <td>1</td>\n",
       "      <td>0.464291</td>\n",
       "      <td>0.538214</td>\n",
       "      <td>0.516730</td>\n",
       "      <td>0.610235</td>\n",
       "      <td>0.610235</td>\n",
       "      <td>0.998946</td>\n",
       "      <td>0.797380</td>\n",
       "      <td>0.809301</td>\n",
       "      <td>0.303556</td>\n",
       "      <td>...</td>\n",
       "      <td>0.795297</td>\n",
       "      <td>0.008323</td>\n",
       "      <td>0.623652</td>\n",
       "      <td>0.610237</td>\n",
       "      <td>0.839969</td>\n",
       "      <td>0.283846</td>\n",
       "      <td>0.264577</td>\n",
       "      <td>0.570175</td>\n",
       "      <td>1</td>\n",
       "      <td>0.020794</td>\n",
       "    </tr>\n",
       "    <tr>\n",
       "      <th>2</th>\n",
       "      <td>1</td>\n",
       "      <td>0.426071</td>\n",
       "      <td>0.499019</td>\n",
       "      <td>0.472295</td>\n",
       "      <td>0.601450</td>\n",
       "      <td>0.601364</td>\n",
       "      <td>0.998857</td>\n",
       "      <td>0.796403</td>\n",
       "      <td>0.808388</td>\n",
       "      <td>0.302035</td>\n",
       "      <td>...</td>\n",
       "      <td>0.774670</td>\n",
       "      <td>0.040003</td>\n",
       "      <td>0.623841</td>\n",
       "      <td>0.601449</td>\n",
       "      <td>0.836774</td>\n",
       "      <td>0.290189</td>\n",
       "      <td>0.026555</td>\n",
       "      <td>0.563706</td>\n",
       "      <td>1</td>\n",
       "      <td>0.016474</td>\n",
       "    </tr>\n",
       "    <tr>\n",
       "      <th>3</th>\n",
       "      <td>1</td>\n",
       "      <td>0.399844</td>\n",
       "      <td>0.451265</td>\n",
       "      <td>0.457733</td>\n",
       "      <td>0.583541</td>\n",
       "      <td>0.583541</td>\n",
       "      <td>0.998700</td>\n",
       "      <td>0.796967</td>\n",
       "      <td>0.808966</td>\n",
       "      <td>0.303350</td>\n",
       "      <td>...</td>\n",
       "      <td>0.739555</td>\n",
       "      <td>0.003252</td>\n",
       "      <td>0.622929</td>\n",
       "      <td>0.583538</td>\n",
       "      <td>0.834697</td>\n",
       "      <td>0.281721</td>\n",
       "      <td>0.026697</td>\n",
       "      <td>0.564663</td>\n",
       "      <td>1</td>\n",
       "      <td>0.023982</td>\n",
       "    </tr>\n",
       "    <tr>\n",
       "      <th>4</th>\n",
       "      <td>1</td>\n",
       "      <td>0.465022</td>\n",
       "      <td>0.538432</td>\n",
       "      <td>0.522298</td>\n",
       "      <td>0.598783</td>\n",
       "      <td>0.598783</td>\n",
       "      <td>0.998973</td>\n",
       "      <td>0.797366</td>\n",
       "      <td>0.809304</td>\n",
       "      <td>0.303475</td>\n",
       "      <td>...</td>\n",
       "      <td>0.795016</td>\n",
       "      <td>0.003878</td>\n",
       "      <td>0.623521</td>\n",
       "      <td>0.598782</td>\n",
       "      <td>0.839973</td>\n",
       "      <td>0.278514</td>\n",
       "      <td>0.024752</td>\n",
       "      <td>0.575617</td>\n",
       "      <td>1</td>\n",
       "      <td>0.035490</td>\n",
       "    </tr>\n",
       "  </tbody>\n",
       "</table>\n",
       "<p>5 rows × 96 columns</p>\n",
       "</div>"
      ],
      "text/plain": [
       "   Bankrupt?   ROA(C) before interest and depreciation before interest  \\\n",
       "0          1                                           0.370594          \n",
       "1          1                                           0.464291          \n",
       "2          1                                           0.426071          \n",
       "3          1                                           0.399844          \n",
       "4          1                                           0.465022          \n",
       "\n",
       "    ROA(A) before interest and % after tax  \\\n",
       "0                                 0.424389   \n",
       "1                                 0.538214   \n",
       "2                                 0.499019   \n",
       "3                                 0.451265   \n",
       "4                                 0.538432   \n",
       "\n",
       "    ROA(B) before interest and depreciation after tax  \\\n",
       "0                                           0.405750    \n",
       "1                                           0.516730    \n",
       "2                                           0.472295    \n",
       "3                                           0.457733    \n",
       "4                                           0.522298    \n",
       "\n",
       "    Operating Gross Margin   Realized Sales Gross Margin  \\\n",
       "0                 0.601457                      0.601457   \n",
       "1                 0.610235                      0.610235   \n",
       "2                 0.601450                      0.601364   \n",
       "3                 0.583541                      0.583541   \n",
       "4                 0.598783                      0.598783   \n",
       "\n",
       "    Operating Profit Rate   Pre-tax net Interest Rate  \\\n",
       "0                0.998969                    0.796887   \n",
       "1                0.998946                    0.797380   \n",
       "2                0.998857                    0.796403   \n",
       "3                0.998700                    0.796967   \n",
       "4                0.998973                    0.797366   \n",
       "\n",
       "    After-tax net Interest Rate   Non-industry income and expenditure/revenue  \\\n",
       "0                      0.808809                                      0.302646   \n",
       "1                      0.809301                                      0.303556   \n",
       "2                      0.808388                                      0.302035   \n",
       "3                      0.808966                                      0.303350   \n",
       "4                      0.809304                                      0.303475   \n",
       "\n",
       "   ...   Net Income to Total Assets   Total assets to GNP price  \\\n",
       "0  ...                     0.716845                    0.009219   \n",
       "1  ...                     0.795297                    0.008323   \n",
       "2  ...                     0.774670                    0.040003   \n",
       "3  ...                     0.739555                    0.003252   \n",
       "4  ...                     0.795016                    0.003878   \n",
       "\n",
       "    No-credit Interval   Gross Profit to Sales  \\\n",
       "0             0.622879                0.601453   \n",
       "1             0.623652                0.610237   \n",
       "2             0.623841                0.601449   \n",
       "3             0.622929                0.583538   \n",
       "4             0.623521                0.598782   \n",
       "\n",
       "    Net Income to Stockholder's Equity   Liability to Equity  \\\n",
       "0                             0.827890              0.290202   \n",
       "1                             0.839969              0.283846   \n",
       "2                             0.836774              0.290189   \n",
       "3                             0.834697              0.281721   \n",
       "4                             0.839973              0.278514   \n",
       "\n",
       "    Degree of Financial Leverage (DFL)  \\\n",
       "0                             0.026601   \n",
       "1                             0.264577   \n",
       "2                             0.026555   \n",
       "3                             0.026697   \n",
       "4                             0.024752   \n",
       "\n",
       "    Interest Coverage Ratio (Interest expense to EBIT)   Net Income Flag  \\\n",
       "0                                           0.564050                   1   \n",
       "1                                           0.570175                   1   \n",
       "2                                           0.563706                   1   \n",
       "3                                           0.564663                   1   \n",
       "4                                           0.575617                   1   \n",
       "\n",
       "    Equity to Liability  \n",
       "0              0.016469  \n",
       "1              0.020794  \n",
       "2              0.016474  \n",
       "3              0.023982  \n",
       "4              0.035490  \n",
       "\n",
       "[5 rows x 96 columns]"
      ]
     },
     "execution_count": 34,
     "metadata": {},
     "output_type": "execute_result"
    }
   ],
   "source": [
    "df.head()"
   ]
  },
  {
   "cell_type": "code",
   "execution_count": 35,
   "metadata": {},
   "outputs": [
    {
     "data": {
      "text/plain": [
       "0"
      ]
     },
     "execution_count": 35,
     "metadata": {},
     "output_type": "execute_result"
    }
   ],
   "source": [
    "df.isnull().sum().sum()"
   ]
  },
  {
   "cell_type": "code",
   "execution_count": 36,
   "metadata": {},
   "outputs": [
    {
     "data": {
      "text/plain": [
       "array([1, 0])"
      ]
     },
     "execution_count": 36,
     "metadata": {},
     "output_type": "execute_result"
    }
   ],
   "source": [
    "df['Bankrupt?'].unique()"
   ]
  },
  {
   "cell_type": "code",
   "execution_count": 37,
   "metadata": {},
   "outputs": [
    {
     "data": {
      "text/html": [
       "<div>\n",
       "<style scoped>\n",
       "    .dataframe tbody tr th:only-of-type {\n",
       "        vertical-align: middle;\n",
       "    }\n",
       "\n",
       "    .dataframe tbody tr th {\n",
       "        vertical-align: top;\n",
       "    }\n",
       "\n",
       "    .dataframe thead th {\n",
       "        text-align: right;\n",
       "    }\n",
       "</style>\n",
       "<table border=\"1\" class=\"dataframe\">\n",
       "  <thead>\n",
       "    <tr style=\"text-align: right;\">\n",
       "      <th></th>\n",
       "      <th>Class</th>\n",
       "      <th>Count</th>\n",
       "    </tr>\n",
       "  </thead>\n",
       "  <tbody>\n",
       "    <tr>\n",
       "      <th>0</th>\n",
       "      <td>0</td>\n",
       "      <td>6599</td>\n",
       "    </tr>\n",
       "    <tr>\n",
       "      <th>1</th>\n",
       "      <td>1</td>\n",
       "      <td>220</td>\n",
       "    </tr>\n",
       "  </tbody>\n",
       "</table>\n",
       "</div>"
      ],
      "text/plain": [
       "   Class  Count\n",
       "0      0   6599\n",
       "1      1    220"
      ]
     },
     "execution_count": 37,
     "metadata": {},
     "output_type": "execute_result"
    }
   ],
   "source": [
    "# Get the counts of each class in the 'dss' column\n",
    "bankrupt_counts = df['Bankrupt?'].value_counts().reset_index()\n",
    "\n",
    "# Rename the columns for clarity\n",
    "bankrupt_counts.columns = ['Class', 'Count']\n",
    "\n",
    "# Display the DataFrame\n",
    "bankrupt_counts"
   ]
  },
  {
   "cell_type": "code",
   "execution_count": 38,
   "metadata": {},
   "outputs": [
    {
     "data": {
      "image/png": "[encoded data removed]",
      "text/plain": [
       "<Figure size 800x600 with 1 Axes>"
      ]
     },
     "metadata": {},
     "output_type": "display_data"
    }
   ],
   "source": [
    "# Plot the distribution of the binary column 'dss'\n",
    "plt.figure(figsize=(8, 6))\n",
    "df['Bankrupt?'].value_counts().plot(kind='bar', color=['blue', 'orange'])\n",
    "plt.title('Distribution of Binary Column \"Bankrupt?\"')\n",
    "plt.xlabel('Class')\n",
    "plt.ylabel('Count')\n",
    "plt.xticks(rotation=0)\n",
    "plt.show()"
   ]
  },
  {
   "cell_type": "code",
   "execution_count": 39,
   "metadata": {},
   "outputs": [],
   "source": [
    "X = df.drop(['Bankrupt?'], axis=1)\n",
    "y = df['Bankrupt?']\n",
    "\n",
    "X_train, X_test, y_train, y_test = train_test_split(X, y, test_size=0.2, random_state=8)\n"
   ]
  },
  {
   "cell_type": "markdown",
   "metadata": {},
   "source": [
    "## Basic Log First"
   ]
  },
  {
   "cell_type": "code",
   "execution_count": 40,
   "metadata": {},
   "outputs": [
    {
     "name": "stdout",
     "output_type": "stream",
     "text": [
      "Accuracy: 0.9530791788856305\n"
     ]
    }
   ],
   "source": [
    "# Create a logistic regression model\n",
    "basic_lr = LogisticRegression(max_iter=1000, random_state=8)\n",
    "\n",
    "# Fit the model to the training data\n",
    "basic_lr.fit(X_train, y_train)\n",
    "\n",
    "lr_pred = basic_lr.predict(X_test)\n",
    "\n",
    "# Evaluate the model\n",
    "accuracy = accuracy_score(y_test, lr_pred)\n",
    "print(f\"Accuracy: {accuracy}\")"
   ]
  },
  {
   "cell_type": "code",
   "execution_count": 41,
   "metadata": {},
   "outputs": [
    {
     "data": {
      "text/plain": [
       "array([[-5.13620398e-13, -5.73975635e-13, -5.60856669e-13,\n",
       "        -5.31494027e-13, -5.31414047e-13, -8.50014453e-13,\n",
       "        -6.77958333e-13, -6.87924477e-13, -2.61005618e-13,\n",
       "        -6.64432578e-13, -1.42532321e-10, -2.80474525e-10,\n",
       "        -4.02681659e-13, -4.72458002e-09, -1.46484314e-13,\n",
       "        -1.93298353e-13, -1.93400529e-13, -1.93341357e-13,\n",
       "        -2.35092838e-13, -2.81268740e-13, -1.12522685e-08,\n",
       "        -1.14550918e-13, -1.94773884e-13, -2.09413920e-14,\n",
       "        -7.25811016e-13, -5.93173159e-13, -5.93096079e-13,\n",
       "        -1.86368446e-13, -3.46827503e-10,  1.67793342e-07,\n",
       "        -2.27041822e-13, -3.26162596e-13, -4.20978324e-07,\n",
       "         2.60106896e-12, -5.39079388e-13, -1.33736291e-10,\n",
       "        -2.75186366e-14, -8.27044798e-13, -1.08019492e-14,\n",
       "        -3.06374751e-13, -4.39724733e-15, -1.14175263e-13,\n",
       "        -1.90580984e-13, -3.38886242e-13, -1.54541288e-13,\n",
       "        -4.84748755e-07, -5.59522823e-07, -1.98099494e-10,\n",
       "         2.34338247e-11, -3.17183335e-14,  2.24985343e-07,\n",
       "        -3.58830430e-13, -3.70615783e-07, -7.68054491e-13,\n",
       "        -4.89036957e-13, -5.51880169e-13, -2.47862998e-13,\n",
       "        -7.58418108e-08,  2.36494754e-10, -2.88088144e-14,\n",
       "        -3.09870722e-13, -2.36941044e-13, -5.30158056e-10,\n",
       "        -6.91518908e-13, -6.35755218e-13, -2.75088767e-13,\n",
       "        -1.32430264e-11, -8.22747775e-13, -2.41271604e-15,\n",
       "        -1.05410868e-14, -1.00778699e-10, -3.48475789e-12,\n",
       "        -5.07384252e-13, -1.75651207e-10, -5.73166949e-13,\n",
       "         2.08861601e-07, -6.91518908e-13, -2.75088767e-13,\n",
       "        -8.59305812e-14, -5.98212454e-13, -4.12331694e-13,\n",
       "        -5.27764426e-13, -2.75702320e-13, -3.54523983e-15,\n",
       "         1.78083572e-14, -7.52919072e-13,  6.50944723e-11,\n",
       "        -5.34258354e-13, -5.31492700e-13, -7.32353456e-13,\n",
       "        -2.29511880e-13, -2.34567982e-14, -4.83431636e-13,\n",
       "        -8.54563435e-13, -7.20342589e-14]])"
      ]
     },
     "execution_count": 41,
     "metadata": {},
     "output_type": "execute_result"
    }
   ],
   "source": [
    "initial_coefficients = basic_lr.coef_\n",
    "initial_coefficients"
   ]
  },
  {
   "cell_type": "code",
   "execution_count": 42,
   "metadata": {},
   "outputs": [
    {
     "data": {
      "text/plain": [
       "array([-5.13620398e-13, -5.73975635e-13, -5.60856669e-13, -5.31494027e-13,\n",
       "       -5.31414047e-13, -8.50014453e-13, -6.77958333e-13, -6.87924477e-13,\n",
       "       -2.61005618e-13, -6.64432578e-13, -1.42532321e-10, -2.80474525e-10,\n",
       "       -4.02681659e-13, -4.72458002e-09, -1.46484314e-13, -1.93298353e-13,\n",
       "       -1.93400529e-13, -1.93341357e-13, -2.35092838e-13, -2.81268740e-13,\n",
       "       -1.12522685e-08, -1.14550918e-13, -1.94773884e-13, -2.09413920e-14,\n",
       "       -7.25811016e-13, -5.93173159e-13, -5.93096079e-13, -1.86368446e-13,\n",
       "       -3.46827503e-10,  1.67793342e-07, -2.27041822e-13, -3.26162596e-13,\n",
       "       -4.20978324e-07,  2.60106896e-12, -5.39079388e-13, -1.33736291e-10,\n",
       "       -2.75186366e-14, -8.27044798e-13, -1.08019492e-14, -3.06374751e-13,\n",
       "       -4.39724733e-15, -1.14175263e-13, -1.90580984e-13, -3.38886242e-13,\n",
       "       -1.54541288e-13, -4.84748755e-07, -5.59522823e-07, -1.98099494e-10,\n",
       "        2.34338247e-11, -3.17183335e-14,  2.24985343e-07, -3.58830430e-13,\n",
       "       -3.70615783e-07, -7.68054491e-13, -4.89036957e-13, -5.51880169e-13,\n",
       "       -2.47862998e-13, -7.58418108e-08,  2.36494754e-10, -2.88088144e-14,\n",
       "       -3.09870722e-13, -2.36941044e-13, -5.30158056e-10, -6.91518908e-13,\n",
       "       -6.35755218e-13, -2.75088767e-13, -1.32430264e-11, -8.22747775e-13,\n",
       "       -2.41271604e-15, -1.05410868e-14, -1.00778699e-10, -3.48475789e-12,\n",
       "       -5.07384252e-13, -1.75651207e-10, -5.73166949e-13,  2.08861601e-07,\n",
       "       -6.91518908e-13, -2.75088767e-13, -8.59305812e-14, -5.98212454e-13,\n",
       "       -4.12331694e-13, -5.27764426e-13, -2.75702320e-13, -3.54523983e-15,\n",
       "        1.78083572e-14, -7.52919072e-13,  6.50944723e-11, -5.34258354e-13,\n",
       "       -5.31492700e-13, -7.32353456e-13, -2.29511880e-13, -2.34567982e-14,\n",
       "       -4.83431636e-13, -8.54563435e-13, -7.20342589e-14])"
      ]
     },
     "execution_count": 42,
     "metadata": {},
     "output_type": "execute_result"
    }
   ],
   "source": [
    "initial_coefficients = np.ravel(initial_coefficients)\n",
    "initial_coefficients"
   ]
  },
  {
   "cell_type": "code",
   "execution_count": 43,
   "metadata": {},
   "outputs": [
    {
     "data": {
      "text/plain": [
       "95"
      ]
     },
     "execution_count": 43,
     "metadata": {},
     "output_type": "execute_result"
    }
   ],
   "source": [
    "len(initial_coefficients)"
   ]
  },
  {
   "cell_type": "markdown",
   "metadata": {},
   "source": [
    "## Lasso time"
   ]
  },
  {
   "cell_type": "code",
   "execution_count": 44,
   "metadata": {},
   "outputs": [
    {
     "name": "stdout",
     "output_type": "stream",
     "text": [
      "Optimal alpha: 0.0037145013358929656\n"
     ]
    }
   ],
   "source": [
    "# Create a LassoCV model\n",
    "from sklearn.discriminant_analysis import StandardScaler\n",
    "from sklearn.pipeline import make_pipeline\n",
    "\n",
    "lasso = make_pipeline(StandardScaler(), LassoCV(cv=10, max_iter=10000, tol=0.001, random_state = 8, n_jobs=-1))\n",
    "\n",
    "start_time = time.time()\n",
    "lasso.fit(X_train, y_train)\n",
    "\n",
    "# Print the chosen alpha\n",
    "lasso_cv = lasso.named_steps['lassocv']\n",
    "best_alpha = lasso_cv.alpha_\n",
    "print(\"Optimal alpha:\", best_alpha)"
   ]
  },
  {
   "cell_type": "code",
   "execution_count": 45,
   "metadata": {},
   "outputs": [
    {
     "name": "stdout",
     "output_type": "stream",
     "text": [
      "Predictions for fold 1: [ 0.05156977  0.08418169  0.0548692  -0.00083278 -0.05150587  0.01566592\n",
      "  0.08221605  0.0843656   0.00824335  0.04056193]\n",
      "Ground truth for fold 1: [0 0 0 0 0 0 0 0 0 0]\n",
      "Predictions for fold 2: [ 0.00696627  0.02416692  0.02146914 -0.02747937  0.01725677  0.0288793\n",
      " -0.01460963 -0.03425329  0.01670336  0.01093235]\n",
      "Ground truth for fold 2: [0 0 0 0 0 0 0 0 0 0]\n",
      "Predictions for fold 3: [ 0.20451939  0.04510311  0.00568178  0.04357858 -0.01720437  0.10757132\n",
      "  0.12686832 -0.02993243  0.07215719  0.01348425]\n",
      "Ground truth for fold 3: [1 0 0 0 0 0 0 0 0 0]\n",
      "Predictions for fold 4: [ 0.23533956 -0.02937039 -0.03328249  0.02512131  0.0618821   0.02398076\n",
      " -0.03661455  0.00385854  0.00785114  0.05436772]\n",
      "Ground truth for fold 4: [0 0 0 0 0 0 0 0 0 0]\n",
      "Predictions for fold 5: [ 0.05323675  0.02988861  0.02419888  0.02878648 -0.02206482  0.06711996\n",
      " -0.01459916  0.12348071  0.01105233  0.02727003]\n",
      "Ground truth for fold 5: [0 0 0 0 0 0 0 0 0 0]\n"
     ]
    }
   ],
   "source": [
    "from sklearn.linear_model import Lasso\n",
    "from sklearn.model_selection import KFold\n",
    "from sklearn.metrics import accuracy_score, roc_auc_score, f1_score\n",
    "\n",
    "lasso_pipeline = make_pipeline(StandardScaler(), Lasso(alpha=best_alpha))\n",
    "\n",
    "# Initialize k-fold cross-validation\n",
    "k = 5 \n",
    "kf = KFold(n_splits=k, shuffle=True, random_state=8)\n",
    "\n",
    "# Lists to store metrics and models for each fold\n",
    "accuracy_scores = []\n",
    "auc_scores = []\n",
    "f1_scores = []\n",
    "models = []\n",
    "\n",
    "y_train = np.array(y_train)\n",
    "\n",
    "start_time = time.time()\n",
    "for train_index, val_index in kf.split(X_train):\n",
    "    X_train_fold, X_val_fold = X_train.iloc[train_index], X_train.iloc[val_index]\n",
    "    y_train_fold, y_val_fold = y_train[train_index], y_train[val_index]\n",
    "\n",
    "    # Fit the model\n",
    "    lasso_pipeline.fit(X_train_fold, y_train_fold)\n",
    "\n",
    "    # Predict on the validation set\n",
    "    y_val_pred = lasso_pipeline.predict(X_val_fold)\n",
    "\n",
    "    # Print some debug information\n",
    "    print(f'Predictions for fold {len(models) + 1}: {y_val_pred[:10]}')\n",
    "    print(f'Ground truth for fold {len(models) + 1}: {y_val_fold[:10]}')\n",
    "\n",
    "    # Binarize predictions for classification metrics\n",
    "    y_val_pred_binary = (y_val_pred > y_val_pred.mean()).astype(int)\n",
    "\n",
    "    # Calculate metrics\n",
    "    accuracy = accuracy_score(y_val_fold, y_val_pred_binary)\n",
    "    auc = roc_auc_score(y_val_fold, y_val_pred)\n",
    "    f1 = f1_score(y_val_fold, y_val_pred_binary)\n",
    "\n",
    "    accuracy_scores.append(accuracy)\n",
    "    auc_scores.append(auc)\n",
    "    f1_scores.append(f1)\n",
    "\n",
    "    # Save the model for this fold\n",
    "    models.append(lasso_pipeline)"
   ]
  },
  {
   "cell_type": "code",
   "execution_count": 46,
   "metadata": {},
   "outputs": [
    {
     "name": "stdout",
     "output_type": "stream",
     "text": [
      "\n",
      "Metrics for each fold:\n",
      "Fold 1: Accuracy: 58.02%, AUC: 92.13%, F1 Score: 11.24%\n",
      "Fold 2: Accuracy: 61.78%, AUC: 93.61%, F1 Score: 16.10%\n",
      "Fold 3: Accuracy: 62.60%, AUC: 92.29%, F1 Score: 16.05%\n",
      "Fold 4: Accuracy: 60.04%, AUC: 95.37%, F1 Score: 12.80%\n",
      "Fold 5: Accuracy: 59.58%, AUC: 90.85%, F1 Score: 11.62%\n",
      "\n",
      "Mean Accuracy: 60.40% ± 1.63%\n",
      "Mean AUC: 92.85% ± 1.54%\n",
      "Mean F1 Score: 13.56% ± 2.11%\n",
      "\n",
      "Best fold: 2 with Accuracy: 61.78%, AUC: 93.61%, F1 Score: 16.10%\n"
     ]
    }
   ],
   "source": [
    "\n",
    "# Print the metrics for each fold\n",
    "print(\"\\nMetrics for each fold:\")\n",
    "for i in range(k):\n",
    "    print(f\"Fold {i + 1}: Accuracy: {accuracy_scores[i] * 100:.2f}%, AUC: {auc_scores[i] * 100:.2f}%, F1 Score: {f1_scores[i] * 100:.2f}%\")\n",
    "\n",
    "# Calculate and print mean and standard deviation of the metrics\n",
    "mean_accuracy = np.mean(accuracy_scores)\n",
    "std_accuracy = np.std(accuracy_scores)\n",
    "mean_auc = np.mean(auc_scores)\n",
    "std_auc = np.std(auc_scores)\n",
    "mean_f1 = np.mean(f1_scores)\n",
    "std_f1 = np.std(f1_scores)\n",
    "\n",
    "print(f'\\nMean Accuracy: {mean_accuracy * 100:.2f}% ± {std_accuracy * 100:.2f}%')\n",
    "print(f'Mean AUC: {mean_auc * 100:.2f}% ± {std_auc * 100:.2f}%')\n",
    "print(f'Mean F1 Score: {mean_f1 * 100:.2f}% ± {std_f1 * 100:.2f}%')\n",
    "\n",
    "# Normalize the scores safely\n",
    "def normalize(scores):\n",
    "    min_score = np.min(scores)\n",
    "    max_score = np.max(scores)\n",
    "    if max_score - min_score == 0:\n",
    "        return np.zeros_like(scores)\n",
    "    return (scores - min_score) / (max_score - min_score)\n",
    "\n",
    "normalized_accuracy = normalize(accuracy_scores)\n",
    "normalized_auc = normalize(auc_scores)\n",
    "normalized_f1 = normalize(f1_scores)\n",
    "\n",
    "# Combine the scores\n",
    "combined_scores = normalized_accuracy + normalized_auc + normalized_f1\n",
    "best_fold_index = np.argmax(combined_scores)  # Use combined score to determine the best fold\n",
    "best_model = models[best_fold_index]\n",
    "\n",
    "print(f'\\nBest fold: {best_fold_index + 1} with Accuracy: {accuracy_scores[best_fold_index] * 100:.2f}%, AUC: {auc_scores[best_fold_index] * 100:.2f}%, F1 Score: {f1_scores[best_fold_index] * 100:.2f}%')\n",
    "\n",
    "# Use the best model to make predictions\n",
    "# Example prediction: best_model.predict(new_data)"
   ]
  },
  {
   "cell_type": "code",
   "execution_count": 47,
   "metadata": {},
   "outputs": [],
   "source": [
    "# Predict on test data and time\n",
    "y_pred = lasso_pipeline.predict(X_test)\n",
    "end_time = time.time()"
   ]
  },
  {
   "cell_type": "markdown",
   "metadata": {},
   "source": [
    "### Understanding Thresholds in the `roc_curve` Function\n",
    "\n",
    "The `roc_curve` function from `sklearn.metrics` evaluates the performance of a binary classifier by examining various thresholds. Here's how it determines and uses these thresholds:\n",
    "\n",
    "1. **Predicted Probabilities (`y_pred`):**\n",
    "   - These are the continuous output values from your classifier, representing the probability or confidence that a given instance belongs to the positive class.\n",
    "\n",
    "2. **Unique Sorted Thresholds:**\n",
    "   - The `roc_curve` function extracts all unique values from `y_pred` and sorts them in descending order. These unique values become the candidate thresholds.\n",
    "   \n",
    "3. **Threshold Evaluation:**\n",
    "   - For each unique threshold, the function calculates the True Positive Rate (TPR) and False Positive Rate (FPR).\n",
    "   - By iterating over the sorted unique values, the function evaluates the classifier's performance at each threshold."
   ]
  },
  {
   "cell_type": "code",
   "execution_count": 48,
   "metadata": {},
   "outputs": [
    {
     "name": "stdout",
     "output_type": "stream",
     "text": [
      "AUC: 0.9257273866860197\n",
      "Optimal threshold (Youden's J): 0.07393846284650442\n",
      "Optimal threshold (Distance): 0.07393846284650442\n"
     ]
    },
    {
     "data": {
      "image/png": "[encoded data removed]",
      "text/plain": [
       "<Figure size 1000x600 with 1 Axes>"
      ]
     },
     "metadata": {},
     "output_type": "display_data"
    }
   ],
   "source": [
    "from sklearn.metrics import roc_curve, auc\n",
    "\n",
    "# Compute the ROC curve\n",
    "fpr, tpr, thresholds = roc_curve(y_test, y_pred)\n",
    "\n",
    "# Compute the AUC (Area Under the Curve)\n",
    "roc_auc = auc(fpr, tpr)\n",
    "print(\"AUC:\", roc_auc)\n",
    "\n",
    "# Find the optimal threshold by maximizing Youden's J statistic\n",
    "optimal_idx_youden = np.argmax(tpr - fpr)\n",
    "optimal_threshold_youden = thresholds[optimal_idx_youden]\n",
    "print(\"Optimal threshold (Youden's J):\", optimal_threshold_youden)\n",
    "\n",
    "# Find the optimal threshold by minimizing the distance to the top-left corner (0, 1)\n",
    "optimal_idx_distance = np.argmin(np.sqrt(fpr**2 + (1 - tpr)**2))\n",
    "optimal_threshold_distance = thresholds[optimal_idx_distance]\n",
    "print(\"Optimal threshold (Distance):\", optimal_threshold_distance)\n",
    "\n",
    "# Plot the ROC curve\n",
    "plt.figure(figsize=(10, 6))\n",
    "plt.plot(fpr, tpr, color='darkorange', lw=2, label='ROC curve (area = %0.2f)' % roc_auc)\n",
    "plt.plot([0, 1], [0, 1], color='navy', lw=2, linestyle='--')\n",
    "\n",
    "# Plot the optimal points\n",
    "plt.scatter(fpr[optimal_idx_youden], tpr[optimal_idx_youden], marker='o', color='red', label='Optimal Threshold (Youden)')\n",
    "plt.scatter(fpr[optimal_idx_distance], tpr[optimal_idx_distance], marker='x', color='blue', label='Optimal Threshold (Distance)')\n",
    "\n",
    "plt.xlim([0.0, 1.0])\n",
    "plt.ylim([0.0, 1.05])\n",
    "plt.xlabel('False Positive Rate')\n",
    "plt.ylabel('True Positive Rate')\n",
    "plt.title('Receiver Operating Characteristic (ROC) Curve')\n",
    "plt.legend(loc=\"lower right\")\n",
    "plt.show()"
   ]
  },
  {
   "cell_type": "code",
   "execution_count": 49,
   "metadata": {},
   "outputs": [],
   "source": [
    "# Set the threshold\n",
    "threshold = optimal_threshold_youden\n",
    "\n",
    "# Convert continuous outputs to binary\n",
    "binary_outputs = (y_pred >= threshold).astype(int)\n",
    "\n",
    "# print(\"Continuous outputs:\", y_pred)\n",
    "# print(\"Binary outputs:\", binary_outputs)"
   ]
  },
  {
   "cell_type": "code",
   "execution_count": 50,
   "metadata": {},
   "outputs": [
    {
     "data": {
      "text/plain": [
       "array([-0.00000000e+00, -0.00000000e+00, -0.00000000e+00,  0.00000000e+00,\n",
       "        0.00000000e+00,  0.00000000e+00,  0.00000000e+00,  0.00000000e+00,\n",
       "        0.00000000e+00,  0.00000000e+00, -0.00000000e+00, -0.00000000e+00,\n",
       "        0.00000000e+00,  0.00000000e+00, -4.43786168e-03, -0.00000000e+00,\n",
       "       -0.00000000e+00, -0.00000000e+00, -0.00000000e+00,  0.00000000e+00,\n",
       "       -0.00000000e+00,  0.00000000e+00, -0.00000000e+00,  2.38901626e-03,\n",
       "       -0.00000000e+00, -9.68844761e-05, -0.00000000e+00, -0.00000000e+00,\n",
       "       -0.00000000e+00,  0.00000000e+00, -0.00000000e+00,  0.00000000e+00,\n",
       "        0.00000000e+00, -0.00000000e+00, -0.00000000e+00,  0.00000000e+00,\n",
       "        2.81682244e-02, -2.68651584e-16,  0.00000000e+00,  7.77581481e-03,\n",
       "       -0.00000000e+00,  0.00000000e+00, -0.00000000e+00, -0.00000000e+00,\n",
       "       -0.00000000e+00, -2.14807832e-04, -0.00000000e+00, -0.00000000e+00,\n",
       "        4.61589799e-03, -4.07436224e-03,  0.00000000e+00, -0.00000000e+00,\n",
       "       -0.00000000e+00, -0.00000000e+00,  0.00000000e+00,  0.00000000e+00,\n",
       "        0.00000000e+00, -0.00000000e+00,  7.30267991e-03,  0.00000000e+00,\n",
       "        7.93906039e-03, -0.00000000e+00, -0.00000000e+00,  4.20404579e-06,\n",
       "       -1.10601050e-02,  0.00000000e+00,  0.00000000e+00,  0.00000000e+00,\n",
       "        0.00000000e+00,  1.12335726e-03, -0.00000000e+00, -0.00000000e+00,\n",
       "        0.00000000e+00, -1.70928207e-03,  0.00000000e+00,  9.43879223e-03,\n",
       "        9.86719007e-04,  0.00000000e+00,  0.00000000e+00, -0.00000000e+00,\n",
       "       -0.00000000e+00,  0.00000000e+00, -0.00000000e+00,  1.37923135e-04,\n",
       "        2.01176774e-02, -4.00288880e-02,  0.00000000e+00,  0.00000000e+00,\n",
       "        0.00000000e+00, -4.87641935e-03,  0.00000000e+00, -0.00000000e+00,\n",
       "       -0.00000000e+00,  0.00000000e+00,  2.43016708e-03])"
      ]
     },
     "execution_count": 50,
     "metadata": {},
     "output_type": "execute_result"
    }
   ],
   "source": [
    "# Access the Lasso model within the pipeline and get its coefficients\n",
    "lasso_model = lasso_pipeline.named_steps['lasso']\n",
    "lasso_coefficients = lasso_model.coef_\n",
    "lasso_coefficients"
   ]
  },
  {
   "cell_type": "code",
   "execution_count": 51,
   "metadata": {},
   "outputs": [
    {
     "data": {
      "text/plain": [
       "95"
      ]
     },
     "execution_count": 51,
     "metadata": {},
     "output_type": "execute_result"
    }
   ],
   "source": [
    "len(lasso_coefficients)"
   ]
  },
  {
   "cell_type": "code",
   "execution_count": 52,
   "metadata": {},
   "outputs": [
    {
     "data": {
      "text/html": [
       "<div>\n",
       "<style scoped>\n",
       "    .dataframe tbody tr th:only-of-type {\n",
       "        vertical-align: middle;\n",
       "    }\n",
       "\n",
       "    .dataframe tbody tr th {\n",
       "        vertical-align: top;\n",
       "    }\n",
       "\n",
       "    .dataframe thead th {\n",
       "        text-align: right;\n",
       "    }\n",
       "</style>\n",
       "<table border=\"1\" class=\"dataframe\">\n",
       "  <thead>\n",
       "    <tr style=\"text-align: right;\">\n",
       "      <th></th>\n",
       "      <th>Feature</th>\n",
       "      <th>LassoCV_Coefficient</th>\n",
       "    </tr>\n",
       "  </thead>\n",
       "  <tbody>\n",
       "    <tr>\n",
       "      <th>0</th>\n",
       "      <td>ROA(C) before interest and depreciation befor...</td>\n",
       "      <td>-0.00000</td>\n",
       "    </tr>\n",
       "    <tr>\n",
       "      <th>1</th>\n",
       "      <td>ROA(A) before interest and % after tax</td>\n",
       "      <td>-0.00000</td>\n",
       "    </tr>\n",
       "    <tr>\n",
       "      <th>2</th>\n",
       "      <td>ROA(B) before interest and depreciation after...</td>\n",
       "      <td>-0.00000</td>\n",
       "    </tr>\n",
       "    <tr>\n",
       "      <th>3</th>\n",
       "      <td>Operating Gross Margin</td>\n",
       "      <td>0.00000</td>\n",
       "    </tr>\n",
       "    <tr>\n",
       "      <th>4</th>\n",
       "      <td>Realized Sales Gross Margin</td>\n",
       "      <td>0.00000</td>\n",
       "    </tr>\n",
       "    <tr>\n",
       "      <th>...</th>\n",
       "      <td>...</td>\n",
       "      <td>...</td>\n",
       "    </tr>\n",
       "    <tr>\n",
       "      <th>90</th>\n",
       "      <td>Liability to Equity</td>\n",
       "      <td>0.00000</td>\n",
       "    </tr>\n",
       "    <tr>\n",
       "      <th>91</th>\n",
       "      <td>Degree of Financial Leverage (DFL)</td>\n",
       "      <td>-0.00000</td>\n",
       "    </tr>\n",
       "    <tr>\n",
       "      <th>92</th>\n",
       "      <td>Interest Coverage Ratio (Interest expense to ...</td>\n",
       "      <td>-0.00000</td>\n",
       "    </tr>\n",
       "    <tr>\n",
       "      <th>93</th>\n",
       "      <td>Net Income Flag</td>\n",
       "      <td>0.00000</td>\n",
       "    </tr>\n",
       "    <tr>\n",
       "      <th>94</th>\n",
       "      <td>Equity to Liability</td>\n",
       "      <td>0.00243</td>\n",
       "    </tr>\n",
       "  </tbody>\n",
       "</table>\n",
       "<p>95 rows × 2 columns</p>\n",
       "</div>"
      ],
      "text/plain": [
       "                                              Feature  LassoCV_Coefficient\n",
       "0    ROA(C) before interest and depreciation befor...             -0.00000\n",
       "1              ROA(A) before interest and % after tax             -0.00000\n",
       "2    ROA(B) before interest and depreciation after...             -0.00000\n",
       "3                              Operating Gross Margin              0.00000\n",
       "4                         Realized Sales Gross Margin              0.00000\n",
       "..                                                ...                  ...\n",
       "90                                Liability to Equity              0.00000\n",
       "91                 Degree of Financial Leverage (DFL)             -0.00000\n",
       "92   Interest Coverage Ratio (Interest expense to ...             -0.00000\n",
       "93                                    Net Income Flag              0.00000\n",
       "94                                Equity to Liability              0.00243\n",
       "\n",
       "[95 rows x 2 columns]"
      ]
     },
     "execution_count": 52,
     "metadata": {},
     "output_type": "execute_result"
    }
   ],
   "source": [
    "# Print list of new coefficients of all features\n",
    "lasso_coefficients_df = pd.DataFrame({'Feature': X.columns, 'LassoCV_Coefficient': lasso_coefficients})\n",
    "lasso_coefficients_df"
   ]
  },
  {
   "cell_type": "code",
   "execution_count": 53,
   "metadata": {},
   "outputs": [
    {
     "name": "stdout",
     "output_type": "stream",
     "text": [
      "Initial coefficients shape: (95,)\n",
      "Lasso coefficients shape: (95,)\n"
     ]
    }
   ],
   "source": [
    "# Check the shape of the arrays\n",
    "print(\"Initial coefficients shape:\", initial_coefficients.shape)\n",
    "print(\"Lasso coefficients shape:\", lasso_coefficients.shape)"
   ]
  },
  {
   "cell_type": "code",
   "execution_count": 54,
   "metadata": {},
   "outputs": [],
   "source": [
    "# Create a DataFrame to compare the coefficients\n",
    "coefficients_df = pd.DataFrame({\n",
    "    'Feature_Index': np.arange(len(X.columns)),\n",
    "    'Feature': X.columns,\n",
    "    'Initial_Coefficients': initial_coefficients,\n",
    "    'Lasso_Coefficients': lasso_coefficients\n",
    "})\n",
    "\n",
    "zero_indices = coefficients_df[coefficients_df['Lasso_Coefficients'] == 0]['Feature_Index']"
   ]
  },
  {
   "cell_type": "code",
   "execution_count": 61,
   "metadata": {},
   "outputs": [
    {
     "data": {
      "image/png": "[encoded data removed]",
      "text/plain": [
       "<Figure size 1200x600 with 1 Axes>"
      ]
     },
     "metadata": {},
     "output_type": "display_data"
    }
   ],
   "source": [
    "# Plot logged initial coefficients\n",
    "plt.figure(figsize=(12, 6))\n",
    "plt.plot(coefficients_df['Feature_Index'], coefficients_df['Initial_Coefficients'], marker='o', label='Logged Initial Coefficients', linestyle='-')\n",
    "#plt.xticks(coefficients_df['Feature_Index'])\n",
    "plt.xlabel('Feature Index')\n",
    "plt.ylabel('Coefficient Value')\n",
    "plt.title('Initial Coefficients (Before L1 Regularization)')\n",
    "plt.legend()\n",
    "plt.grid(True)\n",
    "plt.show()\n"
   ]
  },
  {
   "cell_type": "code",
   "execution_count": 62,
   "metadata": {},
   "outputs": [
    {
     "data": {
      "image/png": "[encoded data removed]",
      "text/plain": [
       "<Figure size 1200x600 with 1 Axes>"
      ]
     },
     "metadata": {},
     "output_type": "display_data"
    }
   ],
   "source": [
    "\n",
    "# Plot logged Lasso coefficients\n",
    "plt.figure(figsize=(12, 6))\n",
    "plt.plot(coefficients_df['Feature_Index'], coefficients_df['Lasso_Coefficients'], marker='o', label='Logged Lasso Coefficients', linestyle='-')\n",
    "#plt.xticks(coefficients_df['Feature_Index'])\n",
    "plt.scatter(zero_indices, np.zeros(len(zero_indices)), color='red', edgecolor='black', s=100, zorder=5, label='Lasso Coefficients = 0')\n",
    "plt.xlabel('Feature Index')\n",
    "plt.ylabel('Coefficient Value')\n",
    "plt.title('Lasso Coefficients (After L1 Regularization)')\n",
    "plt.legend()\n",
    "plt.grid(True)\n",
    "plt.show()"
   ]
  },
  {
   "cell_type": "code",
   "execution_count": 56,
   "metadata": {},
   "outputs": [
    {
     "data": {
      "text/plain": [
       "(22, 4)"
      ]
     },
     "execution_count": 56,
     "metadata": {},
     "output_type": "execute_result"
    }
   ],
   "source": [
    "# Filter the DataFrame to keep only the non-zero Lasso coefficients\n",
    "non_zero_coefficients_df = coefficients_df[coefficients_df['Lasso_Coefficients'] != 0]\n",
    "\n",
    "# Display the filtered DataFrame\n",
    "non_zero_coefficients_df.shape"
   ]
  },
  {
   "cell_type": "code",
   "execution_count": 57,
   "metadata": {},
   "outputs": [
    {
     "data": {
      "text/html": [
       "<div>\n",
       "<style scoped>\n",
       "    .dataframe tbody tr th:only-of-type {\n",
       "        vertical-align: middle;\n",
       "    }\n",
       "\n",
       "    .dataframe tbody tr th {\n",
       "        vertical-align: top;\n",
       "    }\n",
       "\n",
       "    .dataframe thead th {\n",
       "        text-align: right;\n",
       "    }\n",
       "</style>\n",
       "<table border=\"1\" class=\"dataframe\">\n",
       "  <thead>\n",
       "    <tr style=\"text-align: right;\">\n",
       "      <th></th>\n",
       "      <th>Feature_Index</th>\n",
       "      <th>Feature</th>\n",
       "      <th>Initial_Coefficients</th>\n",
       "      <th>Lasso_Coefficients</th>\n",
       "    </tr>\n",
       "  </thead>\n",
       "  <tbody>\n",
       "    <tr>\n",
       "      <th>14</th>\n",
       "      <td>14</td>\n",
       "      <td>Tax rate (A)</td>\n",
       "      <td>-1.464843e-13</td>\n",
       "      <td>-4.437862e-03</td>\n",
       "    </tr>\n",
       "    <tr>\n",
       "      <th>23</th>\n",
       "      <td>23</td>\n",
       "      <td>Realized Sales Gross Profit Growth Rate</td>\n",
       "      <td>-2.094139e-14</td>\n",
       "      <td>2.389016e-03</td>\n",
       "    </tr>\n",
       "    <tr>\n",
       "      <th>25</th>\n",
       "      <td>25</td>\n",
       "      <td>After-tax Net Profit Growth Rate</td>\n",
       "      <td>-5.931732e-13</td>\n",
       "      <td>-9.688448e-05</td>\n",
       "    </tr>\n",
       "    <tr>\n",
       "      <th>36</th>\n",
       "      <td>36</td>\n",
       "      <td>Debt ratio %</td>\n",
       "      <td>-2.751864e-14</td>\n",
       "      <td>2.816822e-02</td>\n",
       "    </tr>\n",
       "    <tr>\n",
       "      <th>37</th>\n",
       "      <td>37</td>\n",
       "      <td>Net worth/Assets</td>\n",
       "      <td>-8.270448e-13</td>\n",
       "      <td>-2.686516e-16</td>\n",
       "    </tr>\n",
       "    <tr>\n",
       "      <th>39</th>\n",
       "      <td>39</td>\n",
       "      <td>Borrowing dependency</td>\n",
       "      <td>-3.063748e-13</td>\n",
       "      <td>7.775815e-03</td>\n",
       "    </tr>\n",
       "    <tr>\n",
       "      <th>45</th>\n",
       "      <td>45</td>\n",
       "      <td>Accounts Receivable Turnover</td>\n",
       "      <td>-4.847488e-07</td>\n",
       "      <td>-2.148078e-04</td>\n",
       "    </tr>\n",
       "    <tr>\n",
       "      <th>48</th>\n",
       "      <td>48</td>\n",
       "      <td>Fixed Assets Turnover Frequency</td>\n",
       "      <td>2.343382e-11</td>\n",
       "      <td>4.615898e-03</td>\n",
       "    </tr>\n",
       "    <tr>\n",
       "      <th>49</th>\n",
       "      <td>49</td>\n",
       "      <td>Net Worth Turnover Rate (times)</td>\n",
       "      <td>-3.171833e-14</td>\n",
       "      <td>-4.074362e-03</td>\n",
       "    </tr>\n",
       "    <tr>\n",
       "      <th>58</th>\n",
       "      <td>58</td>\n",
       "      <td>Cash/Current Liability</td>\n",
       "      <td>2.364948e-10</td>\n",
       "      <td>7.302680e-03</td>\n",
       "    </tr>\n",
       "    <tr>\n",
       "      <th>60</th>\n",
       "      <td>60</td>\n",
       "      <td>Operating Funds to Liability</td>\n",
       "      <td>-3.098707e-13</td>\n",
       "      <td>7.939060e-03</td>\n",
       "    </tr>\n",
       "    <tr>\n",
       "      <th>63</th>\n",
       "      <td>63</td>\n",
       "      <td>Current Liabilities/Liability</td>\n",
       "      <td>-6.915189e-13</td>\n",
       "      <td>4.204046e-06</td>\n",
       "    </tr>\n",
       "    <tr>\n",
       "      <th>64</th>\n",
       "      <td>64</td>\n",
       "      <td>Working Capital/Equity</td>\n",
       "      <td>-6.357552e-13</td>\n",
       "      <td>-1.106010e-02</td>\n",
       "    </tr>\n",
       "    <tr>\n",
       "      <th>69</th>\n",
       "      <td>69</td>\n",
       "      <td>Total expense/Assets</td>\n",
       "      <td>-1.054109e-14</td>\n",
       "      <td>1.123357e-03</td>\n",
       "    </tr>\n",
       "    <tr>\n",
       "      <th>73</th>\n",
       "      <td>73</td>\n",
       "      <td>Cash Turnover Rate</td>\n",
       "      <td>-1.756512e-10</td>\n",
       "      <td>-1.709282e-03</td>\n",
       "    </tr>\n",
       "    <tr>\n",
       "      <th>75</th>\n",
       "      <td>75</td>\n",
       "      <td>Fixed Assets to Assets</td>\n",
       "      <td>2.088616e-07</td>\n",
       "      <td>9.438792e-03</td>\n",
       "    </tr>\n",
       "    <tr>\n",
       "      <th>76</th>\n",
       "      <td>76</td>\n",
       "      <td>Current Liability to Liability</td>\n",
       "      <td>-6.915189e-13</td>\n",
       "      <td>9.867190e-04</td>\n",
       "    </tr>\n",
       "    <tr>\n",
       "      <th>83</th>\n",
       "      <td>83</td>\n",
       "      <td>Current Liability to Current Assets</td>\n",
       "      <td>-3.545240e-15</td>\n",
       "      <td>1.379231e-04</td>\n",
       "    </tr>\n",
       "    <tr>\n",
       "      <th>84</th>\n",
       "      <td>84</td>\n",
       "      <td>Liability-Assets Flag</td>\n",
       "      <td>1.780836e-14</td>\n",
       "      <td>2.011768e-02</td>\n",
       "    </tr>\n",
       "    <tr>\n",
       "      <th>85</th>\n",
       "      <td>85</td>\n",
       "      <td>Net Income to Total Assets</td>\n",
       "      <td>-7.529191e-13</td>\n",
       "      <td>-4.002889e-02</td>\n",
       "    </tr>\n",
       "    <tr>\n",
       "      <th>89</th>\n",
       "      <td>89</td>\n",
       "      <td>Net Income to Stockholder's Equity</td>\n",
       "      <td>-7.323535e-13</td>\n",
       "      <td>-4.876419e-03</td>\n",
       "    </tr>\n",
       "    <tr>\n",
       "      <th>94</th>\n",
       "      <td>94</td>\n",
       "      <td>Equity to Liability</td>\n",
       "      <td>-7.203426e-14</td>\n",
       "      <td>2.430167e-03</td>\n",
       "    </tr>\n",
       "  </tbody>\n",
       "</table>\n",
       "</div>"
      ],
      "text/plain": [
       "    Feature_Index                                   Feature  \\\n",
       "14             14                              Tax rate (A)   \n",
       "23             23   Realized Sales Gross Profit Growth Rate   \n",
       "25             25          After-tax Net Profit Growth Rate   \n",
       "36             36                              Debt ratio %   \n",
       "37             37                          Net worth/Assets   \n",
       "39             39                      Borrowing dependency   \n",
       "45             45              Accounts Receivable Turnover   \n",
       "48             48           Fixed Assets Turnover Frequency   \n",
       "49             49           Net Worth Turnover Rate (times)   \n",
       "58             58                    Cash/Current Liability   \n",
       "60             60              Operating Funds to Liability   \n",
       "63             63             Current Liabilities/Liability   \n",
       "64             64                    Working Capital/Equity   \n",
       "69             69                      Total expense/Assets   \n",
       "73             73                        Cash Turnover Rate   \n",
       "75             75                    Fixed Assets to Assets   \n",
       "76             76            Current Liability to Liability   \n",
       "83             83       Current Liability to Current Assets   \n",
       "84             84                     Liability-Assets Flag   \n",
       "85             85                Net Income to Total Assets   \n",
       "89             89        Net Income to Stockholder's Equity   \n",
       "94             94                       Equity to Liability   \n",
       "\n",
       "    Initial_Coefficients  Lasso_Coefficients  \n",
       "14         -1.464843e-13       -4.437862e-03  \n",
       "23         -2.094139e-14        2.389016e-03  \n",
       "25         -5.931732e-13       -9.688448e-05  \n",
       "36         -2.751864e-14        2.816822e-02  \n",
       "37         -8.270448e-13       -2.686516e-16  \n",
       "39         -3.063748e-13        7.775815e-03  \n",
       "45         -4.847488e-07       -2.148078e-04  \n",
       "48          2.343382e-11        4.615898e-03  \n",
       "49         -3.171833e-14       -4.074362e-03  \n",
       "58          2.364948e-10        7.302680e-03  \n",
       "60         -3.098707e-13        7.939060e-03  \n",
       "63         -6.915189e-13        4.204046e-06  \n",
       "64         -6.357552e-13       -1.106010e-02  \n",
       "69         -1.054109e-14        1.123357e-03  \n",
       "73         -1.756512e-10       -1.709282e-03  \n",
       "75          2.088616e-07        9.438792e-03  \n",
       "76         -6.915189e-13        9.867190e-04  \n",
       "83         -3.545240e-15        1.379231e-04  \n",
       "84          1.780836e-14        2.011768e-02  \n",
       "85         -7.529191e-13       -4.002889e-02  \n",
       "89         -7.323535e-13       -4.876419e-03  \n",
       "94         -7.203426e-14        2.430167e-03  "
      ]
     },
     "execution_count": 57,
     "metadata": {},
     "output_type": "execute_result"
    }
   ],
   "source": [
    "non_zero_coefficients_df"
   ]
  },
  {
   "cell_type": "code",
   "execution_count": 58,
   "metadata": {},
   "outputs": [
    {
     "data": {
      "image/png": "[encoded data removed]",
      "text/plain": [
       "<Figure size 640x480 with 2 Axes>"
      ]
     },
     "metadata": {},
     "output_type": "display_data"
    }
   ],
   "source": [
    "lasso_report = classification_report(y_test, binary_outputs, output_dict=True)\n",
    "\n",
    "# Compute the confusion matrix\n",
    "cf_matrix = confusion_matrix(y_test, binary_outputs)\n",
    "\n",
    "# Define the category names\n",
    "categories = ['Not Bankrupt', 'Bankrupt']\n",
    "labels = ['True Not Bankrupt', 'False Bankrupt', 'False Not Bankrupt', 'True Bankrupt']\n",
    "# Plot the confusion matrix\n",
    "make_confusion_matrix(cf_matrix, \n",
    "                      group_names=labels,\n",
    "                      categories=categories, \n",
    "                      title='Confusion Matrix for LASSO Classification Model')\n",
    "plt.show()"
   ]
  },
  {
   "cell_type": "code",
   "execution_count": 59,
   "metadata": {},
   "outputs": [
    {
     "data": {
      "text/html": [
       "<div>\n",
       "<style scoped>\n",
       "    .dataframe tbody tr th:only-of-type {\n",
       "        vertical-align: middle;\n",
       "    }\n",
       "\n",
       "    .dataframe tbody tr th {\n",
       "        vertical-align: top;\n",
       "    }\n",
       "\n",
       "    .dataframe thead th {\n",
       "        text-align: right;\n",
       "    }\n",
       "</style>\n",
       "<table border=\"1\" class=\"dataframe\">\n",
       "  <thead>\n",
       "    <tr style=\"text-align: right;\">\n",
       "      <th></th>\n",
       "      <th>model</th>\n",
       "      <th>estimation_time_sec</th>\n",
       "      <th>accuracy</th>\n",
       "      <th>f1-score</th>\n",
       "      <th>auc</th>\n",
       "      <th>false_positive_rate</th>\n",
       "      <th>false_negative_rate</th>\n",
       "    </tr>\n",
       "  </thead>\n",
       "  <tbody>\n",
       "    <tr>\n",
       "      <th>0</th>\n",
       "      <td>Lasso</td>\n",
       "      <td>0.216</td>\n",
       "      <td>0.852</td>\n",
       "      <td>0.896</td>\n",
       "      <td>0.926</td>\n",
       "      <td>0.15</td>\n",
       "      <td>0.087</td>\n",
       "    </tr>\n",
       "  </tbody>\n",
       "</table>\n",
       "</div>"
      ],
      "text/plain": [
       "   model  estimation_time_sec  accuracy  f1-score    auc  false_positive_rate  \\\n",
       "0  Lasso                0.216     0.852     0.896  0.926                 0.15   \n",
       "\n",
       "   false_negative_rate  \n",
       "0                0.087  "
      ]
     },
     "execution_count": 59,
     "metadata": {},
     "output_type": "execute_result"
    }
   ],
   "source": [
    "lasso_metrics = []\n",
    "# LassoCV model metrics\n",
    "fpr, fnr = calculate_fp_fn_rates(cf_matrix)\n",
    "lasso_metrics.append({\n",
    "    'model': 'Lasso',\n",
    "    'estimation_time_sec': round(end_time - start_time, 3),\n",
    "    'accuracy': round(lasso_report['accuracy'], 3),\n",
    "    'f1-score': round(lasso_report['weighted avg']['f1-score'], 3),\n",
    "    'auc': round(roc_auc, 3),\n",
    "    'false_positive_rate': round(fpr, 3),\n",
    "    'false_negative_rate': round(fnr, 3)\n",
    "})\n",
    "\n",
    "lasso_metrics_df = pd.DataFrame(lasso_metrics)\n",
    "lasso_metrics_df"
   ]
  },
  {
   "cell_type": "code",
   "execution_count": 60,
   "metadata": {},
   "outputs": [],
   "source": [
    "# write to csv\n",
    "lasso_metrics_df.to_csv('metrics.csv', index=False)"
   ]
  }
 ],
 "metadata": {
  "kernelspec": {
   "display_name": "base",
   "language": "python",
   "name": "python3"
  },
  "language_info": {
   "codemirror_mode": {
    "name": "ipython",
    "version": 3
   },
   "file_extension": ".py",
   "mimetype": "text/x-python",
   "name": "python",
   "nbconvert_exporter": "python",
   "pygments_lexer": "ipython3",
   "version": "3.11.5"
  },
  "orig_nbformat": 4
 },
 "nbformat": 4,
 "nbformat_minor": 2
}
